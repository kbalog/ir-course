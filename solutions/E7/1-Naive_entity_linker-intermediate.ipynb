{
 "cells": [
  {
   "cell_type": "markdown",
   "metadata": {},
   "source": [
    "# Naive Entity Linker\n",
    "\n",
    "In this exercise, you'll need to create the simplest possible entity linker, which recognizes city names in text and links those to the corresponding Wikipedia page.\n",
    "\n",
    "Since we aim for a minimalistic solution, we won't be dealing with the problem of disambiguation explicitly.  Instead, we construct a surface form dictionary such that each mention is mapped to a single entity.  Then, the task boils down to (i) the construction of the surface form dictionary, and (ii) the recognition of mentions (dictionary keys) in the text.\n",
    "\n",
    "We use part of the Wikipedia URL after the last slash to uniquely represent entities, i.e., as `entity_ID`.\n",
    "\n",
    "The goal is to have a minimalistic working solution first, then expand it iteratively.\n",
    "- For the minimal version, consider only capitals in Europe. (All those cities should have unique names.)\n",
    "- Expand the list of cities by considering other Wikipedia lists and/or DBpedia properties. At this point, we don't deal with ambiguity; if a city name has already been added to the surface form dictionary, we ignore it.\n",
    "- Finally, we resolve ambiguity by considering the more popular sense of the entity. Since we don't have link information easily available, we'll use the population of the city as a proxy. That is, if there are multiple cities with the same name, keep the one in the surface form dictionary with the highest population."
   ]
  },
  {
   "cell_type": "code",
   "execution_count": 6,
   "metadata": {},
   "outputs": [],
   "source": [
    "import ipytest\n",
    "import pytest\n",
    "import wikipediaapi\n",
    "\n",
    "from typing import Dict, List\n",
    "\n",
    "ipytest.autoconfig()"
   ]
  },
  {
   "cell_type": "markdown",
   "metadata": {},
   "source": [
    "## 1) Obtain a list of cities"
   ]
  },
  {
   "cell_type": "markdown",
   "metadata": {},
   "source": [
    "We collect potential city names from Wikipedia categories. Note that not all the pages will be actual cities. We'll filter those later in the surface form dictionary creation step."
   ]
  },
  {
   "cell_type": "code",
   "execution_count": 3,
   "metadata": {},
   "outputs": [],
   "source": [
    "def get_cities(seed_cats: List[str]) -> List[str]:\n",
    "    \"\"\"Returns a list of cities represented by their entity_IDs.\n",
    "    \n",
    "    Args:\n",
    "        seed_cats: Names of wikipedia categories that may be used for collecting cities.\n",
    "    \n",
    "    Returns:\n",
    "        List of entity_IDs.\n",
    "    \"\"\"\n",
    "    wiki_wiki = wikipediaapi.Wikipedia(\"en\")\n",
    "    cities = []\n",
    "    for seed_cat in seed_cats:\n",
    "        cat = wiki_wiki.page(f\"Category:{seed_cat}\")\n",
    "        for c in cat.categorymembers.values():\n",
    "            if c.ns != wikipediaapi.Namespace.CATEGORY:\n",
    "                cities.append(c.title)\n",
    "    \n",
    "    return cities"
   ]
  },
  {
   "cell_type": "code",
   "execution_count": 7,
   "metadata": {},
   "outputs": [],
   "source": [
    "cities = get_cities([\"Capitals_in_Europe\"])"
   ]
  },
  {
   "cell_type": "code",
   "execution_count": 9,
   "metadata": {},
   "outputs": [
    {
     "data": {
      "text/plain": [
       "['European Capital of Culture',\n",
       " 'European Youth Capital',\n",
       " 'Amsterdam',\n",
       " 'Andorra la Vella',\n",
       " 'Athens',\n",
       " 'Belgrade',\n",
       " 'Berlin',\n",
       " 'Bern',\n",
       " 'Bratislava',\n",
       " 'City of Brussels']"
      ]
     },
     "execution_count": 9,
     "metadata": {},
     "output_type": "execute_result"
    }
   ],
   "source": [
    "# Look at a sample.\n",
    "cities[:10]"
   ]
  },
  {
   "cell_type": "markdown",
   "metadata": {},
   "source": [
    "## 2) Create a surface form dictionary\n",
    "\n",
    "We create a dictionary that maps surface forms to entity_IDs (single entity_ID per surface form)."
   ]
  },
  {
   "cell_type": "code",
   "execution_count": 10,
   "metadata": {},
   "outputs": [],
   "source": [
    "def create_sf_dict(cities: List[str]) -> Dict[str, str]:\n",
    "    \"\"\"Creates a surface form dictionary for a given list of cities.\n",
    "    \n",
    "    Args:\n",
    "        cities: List of entity_IDs of cities.\n",
    "    \n",
    "    Returns:\n",
    "        Dictionary with mention as key and entity_ID as value.\n",
    "    \"\"\"\n",
    "    sf_dict = {}\n",
    "    for city in cities:\n",
    "        sf_dict[city] = city.replace(\" \", \"_\")\n",
    "    return sf_dict"
   ]
  },
  {
   "cell_type": "code",
   "execution_count": 15,
   "metadata": {},
   "outputs": [],
   "source": [
    "sf_dict = create_sf_dict(cities)"
   ]
  },
  {
   "cell_type": "code",
   "execution_count": 16,
   "metadata": {},
   "outputs": [
    {
     "data": {
      "text/plain": [
       "{'European Capital of Culture': 'European_Capital_of_Culture',\n",
       " 'European Youth Capital': 'European_Youth_Capital',\n",
       " 'Amsterdam': 'Amsterdam',\n",
       " 'Andorra la Vella': 'Andorra_la_Vella',\n",
       " 'Athens': 'Athens',\n",
       " 'Belgrade': 'Belgrade',\n",
       " 'Berlin': 'Berlin',\n",
       " 'Bern': 'Bern',\n",
       " 'Bratislava': 'Bratislava',\n",
       " 'City of Brussels': 'City_of_Brussels',\n",
       " 'Bucharest': 'Bucharest',\n",
       " 'Budapest': 'Budapest',\n",
       " 'Chișinău': 'Chișinău',\n",
       " 'Copenhagen': 'Copenhagen',\n",
       " 'Dublin': 'Dublin',\n",
       " 'Gibraltar': 'Gibraltar',\n",
       " 'Helsinki': 'Helsinki',\n",
       " 'Kyiv': 'Kyiv',\n",
       " 'Lisbon': 'Lisbon',\n",
       " 'Ljubljana': 'Ljubljana',\n",
       " 'London': 'London',\n",
       " 'Luxembourg City': 'Luxembourg_City',\n",
       " 'Madrid': 'Madrid',\n",
       " 'Minsk': 'Minsk',\n",
       " 'Monaco': 'Monaco',\n",
       " 'Moscow': 'Moscow',\n",
       " 'Nicosia': 'Nicosia',\n",
       " 'Nuuk': 'Nuuk',\n",
       " 'Oslo': 'Oslo',\n",
       " 'Paris': 'Paris',\n",
       " 'Podgorica': 'Podgorica',\n",
       " 'Prague': 'Prague',\n",
       " 'Pristina': 'Pristina',\n",
       " 'Reykjavík': 'Reykjavík',\n",
       " 'Riga': 'Riga',\n",
       " 'Rome': 'Rome',\n",
       " 'City of San Marino': 'City_of_San_Marino',\n",
       " 'Sarajevo': 'Sarajevo',\n",
       " 'Skopje': 'Skopje',\n",
       " 'Sofia': 'Sofia',\n",
       " 'Stockholm': 'Stockholm',\n",
       " 'Sukhumi': 'Sukhumi',\n",
       " 'Tallinn': 'Tallinn',\n",
       " 'Tbilisi': 'Tbilisi',\n",
       " 'Tirana': 'Tirana',\n",
       " 'Vaduz': 'Vaduz',\n",
       " 'Valletta': 'Valletta',\n",
       " 'Vienna': 'Vienna',\n",
       " 'Vilnius': 'Vilnius',\n",
       " 'Warsaw': 'Warsaw',\n",
       " 'Westside, Gibraltar': 'Westside,_Gibraltar',\n",
       " 'Zagreb': 'Zagreb'}"
      ]
     },
     "execution_count": 16,
     "metadata": {},
     "output_type": "execute_result"
    }
   ],
   "source": [
    "sf_dict"
   ]
  },
  {
   "cell_type": "markdown",
   "metadata": {},
   "source": [
    "## 3) Perform entity linking\n",
    "\n",
    "Perform entity linking with the help of the surface form dictionary. In case of overlapping mentions, link the longer one (e.g., if both \"Amsterdam\" and \"New Amsterdam\" are present in the surface form dictionary, then the mention \"New Amsterdam\" should be linked to the latter)."
   ]
  },
  {
   "cell_type": "code",
   "execution_count": 17,
   "metadata": {},
   "outputs": [],
   "source": [
    "def perform_linking(input_text: str, sf_dict: Dict[str, str]) -> str:\n",
    "    \"\"\"Annotates a given input text with entities.\n",
    "    \n",
    "    Args:\n",
    "        input_text: Input text.\n",
    "        sf_dict: Surface form dictionary, mapping each mention to a canonical entity.\n",
    "    \n",
    "    Returns:\n",
    "        Annotated text where linked entity mentions are marked up as `[mention](entity_ID)`.\n",
    "    \"\"\"\n",
    "    annotated_text = input_text\n",
    "    # TODO: Complete.\n",
    "    return annotated_text"
   ]
  },
  {
   "cell_type": "markdown",
   "metadata": {},
   "source": [
    "### Tests.\n",
    "\n",
    "Note: tests assume `sf_dict` as a global variable."
   ]
  },
  {
   "cell_type": "code",
   "execution_count": 19,
   "metadata": {},
   "outputs": [
    {
     "name": "stdout",
     "output_type": "stream",
     "text": [
      ".FFFF                                                                              [100%]\n",
      "======================================== FAILURES ========================================\n",
      "_ test_perform_linking[This is an example mention of Amsterdam.-This is an example mention of [Amsterdam](Amsterdam).] _\n",
      "\n",
      "input_text = 'This is an example mention of Amsterdam.'\n",
      "correct_value = 'This is an example mention of [Amsterdam](Amsterdam).'\n",
      "\n",
      "    @pytest.mark.parametrize(\"input_text,correct_value\", [\n",
      "        (\"no city mentioned\", \"no city mentioned\"),  # no entity mentioned\n",
      "        (\"This is an example mention of Amsterdam.\",  # single entity\n",
      "         \"This is an example mention of [Amsterdam](Amsterdam).\"),\n",
      "        (\"Luxembourg City is located in ...\",  # multi-term city name\n",
      "         \"[Luxembourg City](Luxembourg_City) is located in ...\"),\n",
      "        (\"London is a popular city name\",  # cities sharing the same name\n",
      "         \"[London][London] is a popular city name\"),\n",
      "        (\"Have you ever been to New Amsterdam?\",  # overlapping entity mentions\n",
      "         \"Have you ever been to [New Amsterdam](New_Amsterdam)?\")\n",
      "    ])\n",
      "    def test_perform_linking(input_text, correct_value):\n",
      ">       assert perform_linking(input_text, sf_dict) == correct_value\n",
      "E       AssertionError: assert 'This is an e...of Amsterdam.' == 'This is an e...](Amsterdam).'\n",
      "E         - This is an example mention of [Amsterdam](Amsterdam).\n",
      "E         ?                               -         ------------\n",
      "E         + This is an example mention of Amsterdam.\n",
      "\n",
      "<ipython-input-19-94a271940026>:13: AssertionError\n",
      "_ test_perform_linking[Luxembourg City is located in ...-[Luxembourg City](Luxembourg_City) is located in ...] _\n",
      "\n",
      "input_text = 'Luxembourg City is located in ...'\n",
      "correct_value = '[Luxembourg City](Luxembourg_City) is located in ...'\n",
      "\n",
      "    @pytest.mark.parametrize(\"input_text,correct_value\", [\n",
      "        (\"no city mentioned\", \"no city mentioned\"),  # no entity mentioned\n",
      "        (\"This is an example mention of Amsterdam.\",  # single entity\n",
      "         \"This is an example mention of [Amsterdam](Amsterdam).\"),\n",
      "        (\"Luxembourg City is located in ...\",  # multi-term city name\n",
      "         \"[Luxembourg City](Luxembourg_City) is located in ...\"),\n",
      "        (\"London is a popular city name\",  # cities sharing the same name\n",
      "         \"[London][London] is a popular city name\"),\n",
      "        (\"Have you ever been to New Amsterdam?\",  # overlapping entity mentions\n",
      "         \"Have you ever been to [New Amsterdam](New_Amsterdam)?\")\n",
      "    ])\n",
      "    def test_perform_linking(input_text, correct_value):\n",
      ">       assert perform_linking(input_text, sf_dict) == correct_value\n",
      "E       AssertionError: assert 'Luxembourg C...ocated in ...' == '[Luxembourg ...ocated in ...'\n",
      "E         - [Luxembourg City](Luxembourg_City) is located in ...\n",
      "E         ? -               ------------------\n",
      "E         + Luxembourg City is located in ...\n",
      "\n",
      "<ipython-input-19-94a271940026>:13: AssertionError\n",
      "_ test_perform_linking[London is a popular city name-[London][London] is a popular city name] _\n",
      "\n",
      "input_text = 'London is a popular city name'\n",
      "correct_value = '[London][London] is a popular city name'\n",
      "\n",
      "    @pytest.mark.parametrize(\"input_text,correct_value\", [\n",
      "        (\"no city mentioned\", \"no city mentioned\"),  # no entity mentioned\n",
      "        (\"This is an example mention of Amsterdam.\",  # single entity\n",
      "         \"This is an example mention of [Amsterdam](Amsterdam).\"),\n",
      "        (\"Luxembourg City is located in ...\",  # multi-term city name\n",
      "         \"[Luxembourg City](Luxembourg_City) is located in ...\"),\n",
      "        (\"London is a popular city name\",  # cities sharing the same name\n",
      "         \"[London][London] is a popular city name\"),\n",
      "        (\"Have you ever been to New Amsterdam?\",  # overlapping entity mentions\n",
      "         \"Have you ever been to [New Amsterdam](New_Amsterdam)?\")\n",
      "    ])\n",
      "    def test_perform_linking(input_text, correct_value):\n",
      ">       assert perform_linking(input_text, sf_dict) == correct_value\n",
      "E       AssertionError: assert 'London is a ...lar city name' == '[London][Lon...lar city name'\n",
      "E         - [London][London] is a popular city name\n",
      "E         ? -      ---------\n",
      "E         + London is a popular city name\n",
      "\n",
      "<ipython-input-19-94a271940026>:13: AssertionError\n",
      "_ test_perform_linking[Have you ever been to New Amsterdam?-Have you ever been to [New Amsterdam](New_Amsterdam)?] _\n",
      "\n",
      "input_text = 'Have you ever been to New Amsterdam?'\n",
      "correct_value = 'Have you ever been to [New Amsterdam](New_Amsterdam)?'\n",
      "\n",
      "    @pytest.mark.parametrize(\"input_text,correct_value\", [\n",
      "        (\"no city mentioned\", \"no city mentioned\"),  # no entity mentioned\n",
      "        (\"This is an example mention of Amsterdam.\",  # single entity\n",
      "         \"This is an example mention of [Amsterdam](Amsterdam).\"),\n",
      "        (\"Luxembourg City is located in ...\",  # multi-term city name\n",
      "         \"[Luxembourg City](Luxembourg_City) is located in ...\"),\n",
      "        (\"London is a popular city name\",  # cities sharing the same name\n",
      "         \"[London][London] is a popular city name\"),\n",
      "        (\"Have you ever been to New Amsterdam?\",  # overlapping entity mentions\n",
      "         \"Have you ever been to [New Amsterdam](New_Amsterdam)?\")\n",
      "    ])\n",
      "    def test_perform_linking(input_text, correct_value):\n",
      ">       assert perform_linking(input_text, sf_dict) == correct_value\n",
      "E       AssertionError: assert 'Have you eve...ew Amsterdam?' == 'Have you eve...w_Amsterdam)?'\n",
      "E         - Have you ever been to [New Amsterdam](New_Amsterdam)?\n",
      "E         ?                       -             ----------------\n",
      "E         + Have you ever been to New Amsterdam?\n",
      "\n",
      "<ipython-input-19-94a271940026>:13: AssertionError\n",
      "================================ short test summary info =================================\n",
      "FAILED tmpan5h9qc6.py::test_perform_linking[This is an example mention of Amsterdam.-This is an example mention of [Amsterdam](Amsterdam).]\n",
      "FAILED tmpan5h9qc6.py::test_perform_linking[Luxembourg City is located in ...-[Luxembourg City](Luxembourg_City) is located in ...]\n",
      "FAILED tmpan5h9qc6.py::test_perform_linking[London is a popular city name-[London][London] is a popular city name]\n",
      "FAILED tmpan5h9qc6.py::test_perform_linking[Have you ever been to New Amsterdam?-Have you ever been to [New Amsterdam](New_Amsterdam)?]\n",
      "4 failed, 1 passed in 0.05s\n"
     ]
    }
   ],
   "source": [
    "%%run_pytest[clean]\n",
    "\n",
    "@pytest.mark.parametrize(\"input_text,correct_value\", [\n",
    "    (\"no city mentioned\", \"no city mentioned\"),  # no entity mentioned \n",
    "    (\"This is an example mention of Amsterdam.\",  # single entity\n",
    "     \"This is an example mention of [Amsterdam](Amsterdam).\"),\n",
    "    (\"Luxembourg City is located in ...\",  # multi-term city name\n",
    "     \"[Luxembourg City](Luxembourg_City) is located in ...\"),\n",
    "    (\"London is a popular city name\",  # cities sharing the same name\n",
    "     \"[London][London] is a popular city name\"),\n",
    "    (\"Have you ever been to New Amsterdam?\",  # overlapping entity mentions\n",
    "     \"Have you ever been to [New Amsterdam](New_Amsterdam)?\")\n",
    "])\n",
    "def test_perform_linking(input_text, correct_value):\n",
    "    assert perform_linking(input_text, sf_dict) == correct_value"
   ]
  },
  {
   "cell_type": "markdown",
   "metadata": {},
   "source": [
    "## 4) Render links\n",
    "\n",
    "Assuming that you have added entity annotations to the input text in `[mention](entity_ID)` format, render that text as clickable links.  Essentially, you'll need to replace `[mention](entity_ID)` with `<a href=\"https://en.wikipedia.org/wiki/{entity_ID}\">{mention}</a>` (where `{}` indicates variable placeholders)."
   ]
  },
  {
   "cell_type": "code",
   "execution_count": 23,
   "metadata": {},
   "outputs": [],
   "source": [
    "def render_links(annotated_text: str) -> str:\n",
    "    # TODO: complete.\n",
    "    return annotated_text"
   ]
  },
  {
   "cell_type": "markdown",
   "metadata": {},
   "source": [
    "Instead of writing an automated test, we will simply look at the results."
   ]
  },
  {
   "cell_type": "code",
   "execution_count": 25,
   "metadata": {},
   "outputs": [
    {
     "name": "stdout",
     "output_type": "stream",
     "text": [
      "This is an example mention of Amsterdam.\n"
     ]
    }
   ],
   "source": [
    "annotated_text = perform_linking(\"This is an example mention of Amsterdam.\", sf_dict)\n",
    "print(render_links(annotated_text))"
   ]
  }
 ],
 "metadata": {
  "kernelspec": {
   "display_name": "Python 3",
   "language": "python",
   "name": "python3"
  },
  "language_info": {
   "codemirror_mode": {
    "name": "ipython",
    "version": 3
   },
   "file_extension": ".py",
   "mimetype": "text/x-python",
   "name": "python",
   "nbconvert_exporter": "python",
   "pygments_lexer": "ipython3",
   "version": "3.7.4"
  }
 },
 "nbformat": 4,
 "nbformat_minor": 2
}
