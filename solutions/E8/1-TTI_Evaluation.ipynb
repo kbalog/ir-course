{
 "cells": [
  {
   "cell_type": "markdown",
   "metadata": {},
   "source": [
    "# Target Entity Type Identification Evaluation\n",
    "\n",
    "In this exercise, you'll need to implement lenient evaluation measures for the target entity type identification task.\n",
    "\n",
    "As a reminder, _target entity type identification_ is the task of finding the target types of a given input query, from a type taxonomy, such that these types correspond to most specific types of entities that are relevant to the query.  Target types cannot lie on the same branch in the taxonomy.\n",
    "\n",
    "Our final measure is normalized discounted cumulative gain (NDCG), but we need to compute the gain values of answer types based on their distance from ground truth types in the type taxonomy."
   ]
  },
  {
   "cell_type": "code",
   "execution_count": 1,
   "metadata": {},
   "outputs": [],
   "source": [
    "import ipytest\n",
    "import math\n",
    "import operator\n",
    "import pytest\n",
    "from typing import Callable, List, Optional, Set\n",
    "\n",
    "ipytest.autoconfig()"
   ]
  },
  {
   "cell_type": "markdown",
   "metadata": {},
   "source": [
    "## Type taxonomy\n",
    "\n",
    "We use the DBpedia Ontology as our type taxonomy. It is given to you in a preprocessed format in `data/dbpedia_types.tsv`, where each line corresponds to a type, and the tab-separated columns, respectively, are: type identifier, depth in the hierarchy, and parent type."
   ]
  },
  {
   "cell_type": "code",
   "execution_count": 2,
   "metadata": {},
   "outputs": [],
   "source": [
    "class TypeTaxonomy:\n",
    "    \n",
    "    ROOT = \"owl:Thing\"\n",
    "    \n",
    "    def __init__(self, tsv_filename: str) -> None:\n",
    "        \"\"\"Initializes the type taxonomy by loading it from a TSV file.\n",
    "        \n",
    "        Args:\n",
    "            tsv_filename: Name of TSV file, with type_id, depth, and parent_id columns.\n",
    "        \"\"\"\n",
    "        self._types = {self.ROOT: {\"parent\": None, \"depth\": 0}}\n",
    "        self._max_depth = 0\n",
    "        with open(tsv_filename, \"r\") as tsv_file:\n",
    "            next(tsv_file)  # Skip header row\n",
    "            for line in tsv_file:\n",
    "                fields = line.rstrip().split(\"\\t\")\n",
    "                type_id, depth, parent_type = fields[0], int(fields[1]), fields[2]\n",
    "                self._types[type_id] = {\"parent\": parent_type, \"depth\": depth}\n",
    "                self._max_depth = max(depth, self._max_depth)\n",
    "                \n",
    "        # Once all types have been read in, we also populate each type with a list\n",
    "        # of its children for convenience (if the taxonomy is to be traversed\n",
    "        # downwards not just upwards).\n",
    "        for type_id in self._types:\n",
    "            if type_id == self.ROOT:\n",
    "                continue\n",
    "            parent_type = self._types[type_id][\"parent\"]            \n",
    "            if \"children\" not in self._types[parent_type]:\n",
    "                self._types[parent_type][\"children\"] = set()\n",
    "            self._types[parent_type][\"children\"].add(type_id)\n",
    "                        \n",
    "    def max_depth(self) -> int:\n",
    "        \"\"\"Returns the maximum depth of the type taxonomy.\"\"\"\n",
    "        return self._max_depth\n",
    "    \n",
    "    def is_root(self, type_id: str) -> bool:\n",
    "        \"\"\"Returns true if the type is the root of the taxonomy.\n",
    "        \n",
    "        Args:\n",
    "            type_id: Type ID.\n",
    "            \n",
    "        Returns:\n",
    "            True if root.\n",
    "        \"\"\"\n",
    "        return type_id == self.ROOT\n",
    "    \n",
    "    def depth(self, type_id: str) -> int:\n",
    "        \"\"\"Returns the depth of a type in the taxonomy.\n",
    "        \n",
    "        Args:\n",
    "            type_id: Type ID.\n",
    "            \n",
    "        Returns:\n",
    "            The depth of the type in the hierarchy (0 for root).\n",
    "        \"\"\"\n",
    "        return self._types.get(type_id, {}).get(\"depth\")\n",
    "\n",
    "    def parent(self, type_id: str) -> Optional[str]:\n",
    "        \"\"\"Returns the parent type of a type in the taxonomy.\n",
    "        \n",
    "        Args:\n",
    "            type_id: Type ID.\n",
    "            \n",
    "        Returns:\n",
    "            Parent type ID, or None if the input type is root.\n",
    "        \"\"\"\n",
    "        return self._types.get(type_id, {}).get(\"parent\")\n",
    "\n",
    "    def children(self, type_id: str) -> Set[str]:\n",
    "        \"\"\"Returns the set of children types of a type in the taxonomy.\n",
    "        \n",
    "        Args:\n",
    "            type_id: Type ID.\n",
    "            \n",
    "        Returns:\n",
    "            Set of type IDs (empty set if leaf type).\n",
    "        \"\"\"\n",
    "        return self._types.get(type_id, {}).get(\"children\", set())\n",
    "    \n",
    "    def dist(self, type_id1: str, type_id2: str) -> float:\n",
    "        \"\"\"Computes the distance between two types in the taxonomy.\n",
    "        \n",
    "        Args:\n",
    "            type_id1: ID of first type.\n",
    "            type_id2: ID of second type.\n",
    "            \n",
    "        Returns:\n",
    "            The distance between the two types in the type taxonomy, which is\n",
    "            the number of steps between them if they lie on the same branch,\n",
    "            and otherwise `math.inf`.\n",
    "        \"\"\"\n",
    "        # Find which type has higher depth and set if to type_a; the other is type_b.        \n",
    "        type_a, type_b = (type_id2, type_id1) if self.depth(type_id1) < self.depth(type_id2) \\\n",
    "                         else (type_id1, type_id2)\n",
    "        dist = self.depth(type_a) - self.depth(type_b)\n",
    "        \n",
    "        # If they lie on the same branch, then when traversing type_a for dist steps\n",
    "        # would make us end up with type_b; otherwise, they're not on the same branch.\n",
    "        for _ in range(dist):\n",
    "            type_a = self.parent(type_a)\n",
    "        \n",
    "        return dist if type_a == type_b else math.inf"
   ]
  },
  {
   "cell_type": "markdown",
   "metadata": {},
   "source": [
    "Tests."
   ]
  },
  {
   "cell_type": "code",
   "execution_count": 3,
   "metadata": {},
   "outputs": [
    {
     "name": "stdout",
     "output_type": "stream",
     "text": [
      ".........                                                                          [100%]\n",
      "9 passed in 0.07s\n"
     ]
    }
   ],
   "source": [
    "%%run_pytest[clean]\n",
    "\n",
    "@pytest.fixture\n",
    "def dbpedia_types():\n",
    "    return TypeTaxonomy(\"data/dbpedia_types.tsv\")\n",
    "\n",
    "def test_max_depth(dbpedia_types):\n",
    "    assert dbpedia_types.max_depth() == 7\n",
    "\n",
    "@pytest.mark.parametrize(\"type_id,depth\", [\n",
    "    (\"owl:Thing\", 0),\n",
    "    (\"dbo:Agent\", 1),\n",
    "    (\"dbo:SportFacility\", 4),\n",
    "    (\"dbo:RaceTrack\", 5)\n",
    "])\n",
    "def test_depth(dbpedia_types, type_id, depth):\n",
    "    assert dbpedia_types.depth(type_id) == depth\n",
    "    \n",
    "@pytest.mark.parametrize(\"type_id,parent\", [\n",
    "    (\"owl:Thing\", None),\n",
    "    (\"dbo:Agent\", \"owl:Thing\"),\n",
    "    (\"dbo:SportFacility\", \"dbo:ArchitecturalStructure\"),\n",
    "    (\"dbo:RaceTrack\", \"dbo:SportFacility\")\n",
    "])\n",
    "def test_depth(dbpedia_types, type_id, parent):\n",
    "    assert dbpedia_types.parent(type_id) == parent\n",
    "\n",
    "@pytest.mark.parametrize(\"type_id1,type_id2,distance\", [\n",
    "    (\"dbo:Agent\", \"dbo:Agent\", 0),  # same type\n",
    "    (\"dbo:Agent\", \"dbo:Person\", 1),  # type2 is more specific\n",
    "    (\"dbo:Artist\", \"dbo:Agent\", 2),  # type2 is more generic\n",
    "    (\"dbo:Artist\", \"dbo:Broadcaster\", math.inf)  # different branch\n",
    "])  \n",
    "def test_distance(dbpedia_types, type_id1, type_id2, distance):\n",
    "    assert dbpedia_types.dist(type_id1, type_id2) == distance"
   ]
  },
  {
   "cell_type": "markdown",
   "metadata": {},
   "source": [
    "## Computing gain values"
   ]
  },
  {
   "cell_type": "markdown",
   "metadata": {},
   "source": [
    "For simplicity, refer to this global variable in the gain computations."
   ]
  },
  {
   "cell_type": "code",
   "execution_count": 4,
   "metadata": {},
   "outputs": [],
   "source": [
    "type_taxonomy = TypeTaxonomy(\"data/dbpedia_types.tsv\")"
   ]
  },
  {
   "cell_type": "markdown",
   "metadata": {},
   "source": [
    "When defined in a _linear_ fashion, the gain of a type is computed as:\n",
    "\n",
    "$$r(y) = \\max_{\\hat{y} \\in \\hat{\\mathcal{T}}_q} \\big( 1 - \\frac{d(y,\\hat{y})}{h} \\big)$$\n",
    "\n",
    "where $\\hat{\\mathcal{T}}_q$ is the set of ground truth types, $\\hat{y}$ is a ground truth type, $y$ is an answer type, $d(y, \\hat{y})$ is the distance between types in the taxonomy, and $h$ is the maximum depth of the type taxonomy."
   ]
  },
  {
   "cell_type": "code",
   "execution_count": 5,
   "metadata": {},
   "outputs": [],
   "source": [
    "def gain_linear(gt_types: Set[str], answer_type_id: str) -> float:\n",
    "    \"\"\"Computes the gain of an answer type in a linear fashion.\n",
    "    \n",
    "    Args:\n",
    "        gt_types: Set of ground truth type IDs.\n",
    "        answer_type_id: Answer type ID.\n",
    "    \n",
    "    Returns:\n",
    "        Gain value.\n",
    "    \"\"\"\n",
    "    # Note: if the distance between two types is inf, we set the linear gain to 0.\n",
    "    return max([\n",
    "        1 - type_taxonomy.dist(gt_type_id, answer_type_id) / type_taxonomy.max_depth() \n",
    "        if type_taxonomy.dist(gt_type_id, answer_type_id) < math.inf else 0\n",
    "        for gt_type_id in gt_types\n",
    "    ])"
   ]
  },
  {
   "cell_type": "markdown",
   "metadata": {},
   "source": [
    "Alternatively, the gain of an answer type can be defined using an _exponential_ decay function:\n",
    "\n",
    "$$r(y) = \\max_{\\hat{y} \\in \\hat{\\mathcal{T}}_q} \\big ( b^{-d(y,\\hat{y})} \\big )$$\n",
    "\n",
    "where $b$ is the base of the exponential function (here: $b=2$)."
   ]
  },
  {
   "cell_type": "code",
   "execution_count": 6,
   "metadata": {},
   "outputs": [],
   "source": [
    "def gain_exponential(gt_types: Set[str], answer_type_id: str) -> float:\n",
    "    \"\"\"Computes the gain of an answer type using exponential decay.\n",
    "    \n",
    "    Args:\n",
    "        gt_types: Set of ground truth type IDs.\n",
    "        answer_type_id: Answer type ID.\n",
    "    \n",
    "    Returns:\n",
    "        Gain value.\n",
    "    \"\"\"\n",
    "    # Note: if the distance between two types is inf, we set the exponential gain to 0.\n",
    "    return max([\n",
    "        2**(-type_taxonomy.dist(gt_type_id, answer_type_id))\n",
    "        if type_taxonomy.dist(gt_type_id, answer_type_id) < math.inf else 0\n",
    "        for gt_type_id in gt_types\n",
    "    ])"
   ]
  },
  {
   "cell_type": "markdown",
   "metadata": {},
   "source": [
    "Tests."
   ]
  },
  {
   "cell_type": "code",
   "execution_count": 7,
   "metadata": {},
   "outputs": [
    {
     "name": "stdout",
     "output_type": "stream",
     "text": [
      "............                                                                       [100%]\n",
      "12 passed in 0.04s\n"
     ]
    }
   ],
   "source": [
    "%%run_pytest[clean]\n",
    "\n",
    "@pytest.mark.parametrize(\"gt_types,answer_type_id,gain\", [\n",
    "    ([\"dbo:Agent\"], \"dbo:Agent\", 1),  # same type\n",
    "    ([\"dbo:Agent\"], \"dbo:Person\", 1-1/7),  # type2 is more specific\n",
    "    ([\"dbo:Artist\"], \"dbo:Agent\", 1-2/7),  # type2 is more generic\n",
    "    ([\"dbo:NationalSoccerClub\"], \"dbo:Organisation\", 1-3/7),  # type2 is more generic\n",
    "    ([\"dbo:Artist\"], \"dbo:Broadcaster\", 0),  # different branch\n",
    "    ([\"dbo:DisneyCharacter\"], \"dbo:MythologicalFigure\", 0),  # sibling categories\n",
    "])\n",
    "def test_gain_linear(gt_types, answer_type_id, gain):\n",
    "    assert gain_linear(gt_types, answer_type_id) == pytest.approx(gain)\n",
    "    \n",
    "@pytest.mark.parametrize(\"gt_types,answer_type_id,gain\", [\n",
    "    ([\"dbo:Agent\"], \"dbo:Agent\", 1),  # same type\n",
    "    ([\"dbo:Agent\"], \"dbo:Person\", 1/2),  # type2 is more specific\n",
    "    ([\"dbo:Artist\"], \"dbo:Agent\", 1/4),  # type2 is more generic\n",
    "    ([\"dbo:NationalSoccerClub\"], \"dbo:Organisation\", 1/8),  # type2 is more generic\n",
    "    ([\"dbo:Artist\"], \"dbo:Broadcaster\", 0),  # different branch\n",
    "    ([\"dbo:DisneyCharacter\"], \"dbo:MythologicalFigure\", 0),  # sibling categories\n",
    "])\n",
    "def test_gain_exponential(gt_types, answer_type_id, gain):\n",
    "    assert gain_exponential(gt_types, answer_type_id) == pytest.approx(gain)"
   ]
  },
  {
   "cell_type": "markdown",
   "metadata": {},
   "source": [
    "## Putting everything together\n",
    "\n",
    "Plug the gain values computed using either linear or exponential into the NDCG computation to get a final evaluation score.\n",
    "\n",
    "The DCG and NDCG computation parts are given. The only part that needs completing is the construction of the ideal ranking."
   ]
  },
  {
   "cell_type": "code",
   "execution_count": 8,
   "metadata": {},
   "outputs": [],
   "source": [
    "def get_ideal_ranking(gt_types: Set[str]) -> List[str]:\n",
    "    \"\"\"Generates an ideal ranking corresponding to a set of ground truth types.\n",
    "    \n",
    "    Args:\n",
    "        gt_types: Set of ground truth types.\n",
    "    \n",
    "    Returns:\n",
    "        A ranked list of types that constitute an ideal ranking gain-wise.\n",
    "    \"\"\"\n",
    "    gains = {}\n",
    "    \n",
    "    for gt_type in gt_types:\n",
    "        # Ground truth type has max gain.\n",
    "        gains[gt_type] = type_taxonomy.max_depth()\n",
    "        \n",
    "        # Traverse upwards to add parent types.\n",
    "        parent_type = type_taxonomy.parent(gt_type)\n",
    "        gain = type_taxonomy.max_depth() - 1\n",
    "        while not type_taxonomy.is_root(parent_type):\n",
    "            gains[parent_type] = max(gains.get(parent_type, 0), gain)\n",
    "            gain -= 1\n",
    "            parent_type = type_taxonomy.parent(parent_type)\n",
    "\n",
    "        # Traverse downwards to add children types.\n",
    "        children_types = type_taxonomy.children(gt_type)\n",
    "        gain = type_taxonomy.max_depth() - 1\n",
    "        while len(children_types) > 0:\n",
    "            grandchildren_types = set()\n",
    "            for t in children_types:\n",
    "                gains[t] = max(gains.get(t, 0), gain)\n",
    "                grandchildren_types.update(type_taxonomy.children(t))\n",
    "            gain -= 1\n",
    "            children_types = grandchildren_types\n",
    "    \n",
    "    # Return types ordered by gain desc.\n",
    "    return [k for k, v in sorted(gains.items(), key=operator.itemgetter(1), reverse=True)]    "
   ]
  },
  {
   "cell_type": "code",
   "execution_count": 9,
   "metadata": {},
   "outputs": [],
   "source": [
    "def dcg(relevances: List[float], k: int) -> float:\n",
    "    \"\"\"Computes DCG@k, given the corresponding relevance levels for a ranked list of types.\n",
    "    \n",
    "    Args:\n",
    "        relevances: List with the relevance levels corresponding to a ranked list of types.\n",
    "        k: Rank cut-off.\n",
    "        \n",
    "    Returns:\n",
    "        DCG@k (float).\n",
    "    \"\"\"\n",
    "    return relevances[0] + sum(\n",
    "        [relevances[i] / math.log(i + 1, 2) \n",
    "         for i in range(1, min(k, len(relevances)))]\n",
    "    )"
   ]
  },
  {
   "cell_type": "code",
   "execution_count": 10,
   "metadata": {},
   "outputs": [],
   "source": [
    "def ndcg(system_ranking: List[str], gt_types: Set[str], gain_function: Callable, k:int = 10) -> float:\n",
    "    \"\"\"Computes NDCG@k for a given system ranking.\n",
    "    \n",
    "    Args:\n",
    "        system_ranking: Ranked list of answer type IDs (from most to least relevant).\n",
    "        gt_types: Set of ground truth types.\n",
    "        gain_function: Function for computing the gain of an answer type.\n",
    "        k: Rank cut-off.\n",
    "    \n",
    "    Returns:\n",
    "        NDCG@k (float).\n",
    "    \"\"\"\n",
    "    # Relevance (gain) levels for the ranked docs.\n",
    "    relevances = [gain_function(gt_types, type_id) for type_id in system_ranking]\n",
    "\n",
    "    # Relevance levels (gains) of the idealized ranking.\n",
    "    relevances_ideal = [gain_function(gt_types, type_id) \n",
    "                        for type_id in get_ideal_ranking(gt_types)]\n",
    "    \n",
    "    return dcg(relevances, k) / dcg(relevances_ideal, k)        "
   ]
  },
  {
   "cell_type": "markdown",
   "metadata": {},
   "source": [
    "Tests."
   ]
  },
  {
   "cell_type": "code",
   "execution_count": 11,
   "metadata": {},
   "outputs": [
    {
     "name": "stdout",
     "output_type": "stream",
     "text": [
      "...                                                                                [100%]\n",
      "3 passed in 0.02s\n"
     ]
    }
   ],
   "source": [
    "%%run_pytest[clean]\n",
    "\n",
    "def test_ideal_ranking_single_gt():\n",
    "    ideal_rankings = get_ideal_ranking({\"dbo:Person\"})\n",
    "    # Ideal ranking starts with ground truth type.\n",
    "    assert \"dbo:Person\" in ideal_rankings \n",
    "    assert ideal_rankings.index(\"dbo:Person\") == 0\n",
    "    # Types that are not parent or children types are not present.\n",
    "    assert \"dbo:Organisation\" not in ideal_rankings\n",
    "    # Parent types are present and ranked lower than GT type.\n",
    "    assert \"dbo:Agent\" in ideal_rankings \n",
    "    assert ideal_rankings.index(\"dbo:Agent\") > 0\n",
    "    # Children types are present and ranked lower than GT type.    \n",
    "    assert \"dbo:Politician\" in ideal_rankings \n",
    "    assert ideal_rankings.index(\"dbo:Politician\") > 0\n",
    "    assert \"dbo:President\" in ideal_rankings\n",
    "    # Relative ranking of children types is correct.\n",
    "    assert ideal_rankings.index(\"dbo:President\") > ideal_rankings.index(\"dbo:Politician\")    \n",
    "    # Relative ranking of parent vs. children types is correct.\n",
    "    assert ideal_rankings.index(\"dbo:Agent\") < ideal_rankings.index(\"dbo:President\")    \n",
    "\n",
    "def test_ideal_ranking_multi_gt():\n",
    "    # Ground truth types are subtypes of person but on different branches\n",
    "    # and at different depths:\n",
    "    # Skier -> WinterSportPlayer -> Athlete -> Person\n",
    "    # DisneyCharacter -> FictionalCharacter -> Person\n",
    "    ideal_rankings = get_ideal_ranking({\"dbo:Skier\", \"dbo:DisneyCharacter\"})\n",
    "    # Ground truth type at the top of the ideal ranking in any order\n",
    "    assert set(ideal_rankings[:2]) == {\"dbo:Skier\", \"dbo:DisneyCharacter\"}\n",
    "    # Path tho Skier.\n",
    "    assert \"dbo:WinterSportPlayer\" in ideal_rankings \n",
    "    assert \"dbo:Athlete\" in ideal_rankings \n",
    "    assert \"dbo:Person\" in ideal_rankings \n",
    "    assert \"dbo:Agent\" in ideal_rankings \n",
    "    assert ideal_rankings.index(\"dbo:WinterSportPlayer\") < ideal_rankings.index(\"dbo:Athlete\")\n",
    "    assert ideal_rankings.index(\"dbo:Person\") < ideal_rankings.index(\"dbo:Agent\")\n",
    "    # Path to DisneyCharacter.\n",
    "    assert \"dbo:FictionalCharacter\" in ideal_rankings \n",
    "    assert ideal_rankings.index(\"dbo:FictionalCharacter\") < ideal_rankings.index(\"dbo:Person\")\n",
    "    assert ideal_rankings.index(\"dbo:FictionalCharacter\") < ideal_rankings.index(\"dbo:Athlete\")    \n",
    "    # Sibling types to ground truth types.\n",
    "    assert \"dbo:Ski_jumper\" not in ideal_rankings\n",
    "    assert \"dbo:SoapCharacter\" not in ideal_rankings\n",
    "    # Types on other branches.\n",
    "    assert \"dbo:Gymnast\" not in ideal_rankings\n",
    "    assert \"dbo:ShoppingMall\" not in ideal_rankings\n",
    "\n",
    "\n",
    "def test_ndcg():\n",
    "    # Perfect ranking.\n",
    "    assert ndcg([\"dbo:Person\", \"dbo:Agent\", \"dbo:Politician\"], \n",
    "                {\"dbo:Person\"}, gain_linear, k=3) == 1.0\n",
    "    assert ndcg([\"dbo:Organisation\", \"dbo:Agent\", \"dbo:Politician\"], \n",
    "                {\"dbo:Person\"}, gain_linear, k=3) == pytest.approx(0.583, rel=1e-3)\n",
    "    assert ndcg([\"dbo:Athlete\", \"dbo:Agent\", \"dbo:FictionalCharacter\"], \n",
    "                {\"dbo:Skier\", \"dbo:DisneyCharacter\"}, \n",
    "                gain_linear, k=3) == pytest.approx(0.719, rel=1e-3)\n",
    "    assert ndcg([\"dbo:Athlete\", \"dbo:Agent\", \"dbo:DisneyCharacter\"], \n",
    "                {\"dbo:Skier\", \"dbo:DisneyCharacter\"}, \n",
    "                gain_linear, k=3) == pytest.approx(0.754, rel=1e-3)    "
   ]
  }
 ],
 "metadata": {
  "kernelspec": {
   "display_name": "Python 3",
   "language": "python",
   "name": "python3"
  },
  "language_info": {
   "codemirror_mode": {
    "name": "ipython",
    "version": 3
   },
   "file_extension": ".py",
   "mimetype": "text/x-python",
   "name": "python",
   "nbconvert_exporter": "python",
   "pygments_lexer": "ipython3",
   "version": "3.7.4"
  }
 },
 "nbformat": 4,
 "nbformat_minor": 2
}
