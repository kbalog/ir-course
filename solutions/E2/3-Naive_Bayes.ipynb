{
 "cells": [
  {
   "cell_type": "markdown",
   "metadata": {},
   "source": [
    "# Naive Bayes text classifier\n",
    "\n",
    "In this exercise, you'll implement a Naive Bayes classifier for text from scratch."
   ]
  },
  {
   "cell_type": "code",
   "execution_count": 1,
   "metadata": {},
   "outputs": [],
   "source": [
    "import ipytest\n",
    "from typing import List\n",
    "\n",
    "ipytest.autoconfig()"
   ]
  },
  {
   "cell_type": "markdown",
   "metadata": {},
   "source": [
    "### Training the model\n",
    "\n",
    "  - Calculate $P(y)$ for each class label in the training data\n",
    "  - Calculate $P(x_i|y)$ for each feature (term) for each class label in the training data using Laplace (add-one) smoothing\n",
    "  \n",
    "$$P(x_i|y)=\\frac{c_{i,y} + 1}{c_i + m}$$\n",
    "\n",
    "where \n",
    "  - $c_{i,y}$ is the number of times term $x_i$ appears in class $y$\n",
    "  - $c_i$ is the total number of times term $x_i$ appears in the collection\n",
    "  - $m$ is the number of classes\n",
    "\n",
    "\n",
    "### Applying the model\n",
    "\n",
    "Return the class $y \\in Y$ that maximizes $P(y) \\prod_{x_i} P(x_i|y)$.\n",
    "\n",
    "Note that we need to consider $x_i$ at each *word position* in the document. Thus, we need to multiply with $P(x_i|y)$ as many times as $x_i$ appears in the document.\n",
    "We can rewrite it as: $$P(y|x) \\propto P(y) \\prod_{i \\in d} P(x_i|y)^{c_{i,d}}$$ where $c_{i,d}$ is the number of times term $i$ appears in document $d$.\n",
    "\n",
    "Finally, we perform the computations in the log domain, that is, $$\\log P(y) +  \\sum_{i=1}^n (c_{i,d} \\log P(x_i|y))$$"
   ]
  },
  {
   "cell_type": "markdown",
   "metadata": {},
   "source": [
    "## 1) Probability estimations\n",
    "\n",
    "The estimation of probabilities $P(x_i|y)$ and $P(y)$ are refactored to a separate class to make them testable."
   ]
  },
  {
   "cell_type": "code",
   "execution_count": 2,
   "metadata": {},
   "outputs": [],
   "source": [
    "class NBProbabilityEstimator:\n",
    "    \n",
    "    def get_prior_prob(self, y: int, training_labels: List[int]) -> float:\n",
    "        \"\"\"Computes the class prior probability, P(y).\n",
    "        \n",
    "        Args:\n",
    "            y: Class ID.\n",
    "            training_labels: Class labels in training data.\n",
    "            \n",
    "        Returns:\n",
    "            The probability P(y).\n",
    "        \"\"\"\n",
    "        return training_labels.count(y) / len(training_labels)\n",
    "    \n",
    "    def get_term_prob(self, count_inclass: int, count_total: int, num_unique_terms: int) -> float:\n",
    "        \"\"\"Computes the smoothed term probability for a given class, P(x_i|y).\n",
    "        \n",
    "        Args:\n",
    "          count_inclass: Number of times the term appears in the given class.\n",
    "          count_total: Number of times the term appears in the collection.\n",
    "          num_unique_terms: Size of the vocabulary.\n",
    "          \n",
    "        Returns:\n",
    "          The probability P(x_i|y).\n",
    "        \"\"\"\n",
    "        return (count_inclass + 1) / (count_total + num_unique_terms)"
   ]
  },
  {
   "cell_type": "markdown",
   "metadata": {},
   "source": [
    "### Tests"
   ]
  },
  {
   "cell_type": "code",
   "execution_count": 3,
   "metadata": {},
   "outputs": [
    {
     "name": "stdout",
     "output_type": "stream",
     "text": [
      "..                                                                                 [100%]\n",
      "2 passed in 0.01s\n"
     ]
    }
   ],
   "source": [
    "%%run_pytest[clean]\n",
    "\n",
    "def test_prior_prob():\n",
    "    nbpe = NBProbabilityEstimator()\n",
    "    assert nbpe.get_prior_prob(1, [0, 1, 2, 3]) == 0.25\n",
    "    assert nbpe.get_prior_prob(1, [1, 1, 2, 3]) == 0.5\n",
    "\n",
    "def test_term_prob():\n",
    "    nbpe = NBProbabilityEstimator()\n",
    "    assert nbpe.get_term_prob(5, 20, 10) == 0.2\n",
    "    assert nbpe.get_term_prob(74, 90, 10) == 0.75\n",
    "    assert nbpe.get_term_prob(0, 6, 10) == 0.0625"
   ]
  },
  {
   "cell_type": "markdown",
   "metadata": {},
   "source": [
    "## 2) Naive Bayes classifier\n",
    "\n",
    "Implement training and prediction for a Naive Bayes classifier.  We are operating with dense matrices for simplicity."
   ]
  },
  {
   "cell_type": "code",
   "execution_count": 4,
   "metadata": {},
   "outputs": [],
   "source": [
    "import numpy as np\n",
    "import math\n",
    "\n",
    "class NBClassifier:\n",
    "\n",
    "    def __init__(self) -> None:\n",
    "        self._nbprob = NBProbabilityEstimator()\n",
    "        self._num_classes = 0\n",
    "        self._prior_prob = None  # Holds P(y) values\n",
    "        self._term_prob = None  # Holds P(x_i|y) values\n",
    "        \n",
    "    \n",
    "    def fit(self, X_train: List[List[int]], y_train: List[int]) -> None:\n",
    "        \"\"\"Fits the model.\n",
    "        \n",
    "        Args:\n",
    "          X_train: Document-term matrix for training data. \n",
    "              Rows correspond to documents and columns correspond to terms.\n",
    "          y_train: Class labels corresponding to training documents.\n",
    "        \"\"\"        \n",
    "        self._num_classes = len(np.unique(y_train))\n",
    "        num_docs = len(X_train)\n",
    "        num_terms = len(X_train[0])        \n",
    "        self._term_prob = np.zeros((num_terms, self._num_classes))\n",
    "        \n",
    "        # Iterating through the vocabulary\n",
    "        for i in range(num_terms):\n",
    "            # Holds c_{i,j} values, i.e., the number of times term i appears with class j.\n",
    "            class_count = [0] * self._num_classes\n",
    "            for d in range(num_docs):\n",
    "                class_count[y_train[d]] += X_train[d][i]\n",
    "                        \n",
    "            # Calculate P(x_i|y)\n",
    "            total_count = sum(class_count)\n",
    "            for j in range(self._num_classes):\n",
    "                self._term_prob[i, j] = self._nbprob.get_term_prob(class_count[j], total_count, num_terms)\n",
    "                \n",
    "        # Pre-compute class prior probabilities\n",
    "        self._prior_prob = []\n",
    "        for y in range(self._num_classes):\n",
    "            self._prior_prob.append(self._nbprob.get_prior_prob(y, y_train))\n",
    "\n",
    "                \n",
    "    def _predict_instance(self, x: List[int]) -> int:\n",
    "        \"\"\"Predict class for a single instance (document).\n",
    "        \n",
    "        Args:\n",
    "          x: Document term vector.\n",
    "          \n",
    "        Returns:\n",
    "          The predicted class label (0-indexed).\n",
    "        \"\"\"\n",
    "        probs = []\n",
    "        \n",
    "        for y in range(self._num_classes):\n",
    "            p = math.log(self._prior_prob[y])\n",
    "            for i in range(len(x)):\n",
    "                if x[i] > 0:\n",
    "                    p += x[i] * math.log(self._term_prob[i][y])\n",
    "            probs.append(p)\n",
    "            \n",
    "        # Get the class with the highest probability.\n",
    "        return probs.index(max(probs))\n",
    "        \n",
    "    \n",
    "    def predict(self, X_test: List[List[int]]) -> List[float]:\n",
    "        \"\"\"Make predictions for a set of documents.\n",
    "        \n",
    "        Args:\n",
    "          X_test: Document-term matrix for test data.\n",
    "          \n",
    "        Returns:\n",
    "          List with predictions.\n",
    "        \"\"\"\n",
    "        return [self._predict_instance(x) for x in X_test]        "
   ]
  },
  {
   "cell_type": "markdown",
   "metadata": {},
   "source": [
    "## 3) Testing on real data\n",
    "\n",
    "We will be using a subset of the 20Newsgroups collection."
   ]
  },
  {
   "cell_type": "code",
   "execution_count": 5,
   "metadata": {},
   "outputs": [],
   "source": [
    "from sklearn.datasets import fetch_20newsgroups\n",
    "\n",
    "categories = [\n",
    "    \"alt.atheism\",\n",
    "    \"soc.religion.christian\", \n",
    "    \"talk.religion.misc\",\n",
    "    \"comp.sys.ibm.pc.hardware\",\n",
    "    \"comp.sys.mac.hardware\"\n",
    "]\n",
    "\n",
    "train = fetch_20newsgroups(subset='train', categories=categories, shuffle=True, random_state=123)\n",
    "test = fetch_20newsgroups(subset='test', categories=categories, shuffle=True, random_state=123)"
   ]
  },
  {
   "cell_type": "markdown",
   "metadata": {},
   "source": [
    "### Feature extraction\n",
    "\n",
    "Get term frequencies using `CountVectorizer`. (We ignore terms that appear in less than 10 documents to speed up computation.)"
   ]
  },
  {
   "cell_type": "code",
   "execution_count": 6,
   "metadata": {},
   "outputs": [],
   "source": [
    "from sklearn.feature_extraction.text import CountVectorizer\n",
    "\n",
    "count_vect = CountVectorizer(min_df=10)\n",
    "X_train_counts = count_vect.fit_transform(train.data)\n",
    "X_test_counts = count_vect.transform(test.data)"
   ]
  },
  {
   "cell_type": "markdown",
   "metadata": {},
   "source": [
    "### Train and apply model\n",
    "\n",
    "Note that we convert sparse matrices to dense ones. This is not efficient and should be avoided when working with large datasets. Nevertheless, this simplifies the implementation for this exercise."
   ]
  },
  {
   "cell_type": "code",
   "execution_count": 7,
   "metadata": {},
   "outputs": [],
   "source": [
    "nb = NBClassifier()\n",
    "nb.fit(X_train_counts.toarray(), train.target.tolist())\n",
    "predicted = nb.predict(X_test_counts.toarray())"
   ]
  },
  {
   "cell_type": "markdown",
   "metadata": {},
   "source": [
    "### Evaluation"
   ]
  },
  {
   "cell_type": "code",
   "execution_count": 8,
   "metadata": {},
   "outputs": [
    {
     "name": "stdout",
     "output_type": "stream",
     "text": [
      "0.595\n"
     ]
    }
   ],
   "source": [
    "from sklearn import metrics\n",
    "\n",
    "print(f\"{metrics.accuracy_score(test.target, np.asarray(predicted)):.3f}\")"
   ]
  },
  {
   "cell_type": "markdown",
   "metadata": {},
   "source": [
    "**TODO** Once you completed the next exercise (E2-4), check back here to see if the performance you got with the implementation from scratch is comparable to that of sklearn. Most likely, you'll see quite a bit difference. Can you find out the reason for that? You can share the solution at the next class session (for a bonus point)."
   ]
  },
  {
   "cell_type": "markdown",
   "metadata": {},
   "source": [
    "## Optional exercises"
   ]
  },
  {
   "cell_type": "markdown",
   "metadata": {},
   "source": [
    "If you're done, try to implement it without making a conversion to dense matrices.\n",
    "\n",
    "Also, do we really need to precompute and store all term probabilities?"
   ]
  }
 ],
 "metadata": {
  "kernelspec": {
   "display_name": "Python 3",
   "language": "python",
   "name": "python3"
  },
  "language_info": {
   "codemirror_mode": {
    "name": "ipython",
    "version": 3
   },
   "file_extension": ".py",
   "mimetype": "text/x-python",
   "name": "python",
   "nbconvert_exporter": "python",
   "pygments_lexer": "ipython3",
   "version": "3.7.4"
  }
 },
 "nbformat": 4,
 "nbformat_minor": 2
}
