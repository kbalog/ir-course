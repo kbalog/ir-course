{
 "cells": [
  {
   "cell_type": "markdown",
   "metadata": {},
   "source": [
    "# Term vector similarity\n",
    "\n",
    "In this exercise you'll need to complete the code for computing the similarity between two documents that are represented by their term vectors."
   ]
  },
  {
   "cell_type": "code",
   "execution_count": null,
   "metadata": {},
   "outputs": [],
   "source": [
    "import ipytest\n",
    "import math\n",
    "import pytest\n",
    "from typing import List\n",
    "\n",
    "ipytest.autoconfig()"
   ]
  },
  {
   "cell_type": "markdown",
   "metadata": {},
   "source": [
    "## Jaccard similarity\n",
    "\n",
    "This metric is a set similarity; that is, it only captures the presence and absence of terms with no regard to their frequency. Put simply, it captures the ratio of shared terms and total terms in the two documents.\n",
    "\n",
    "$$sim_{Jaccard} = \\frac{|X \\cap Y|}{|X \\cup Y|}$$\n",
    "\n",
    "where $X$ and $Y$ denote the set of terms in documents $x$ and $y$, respectively.\n",
    "\n",
    "If the two documents are given as term vectors, Jaccard similarity may be computed as:\n",
    "\n",
    "$$sim_{\\mathrm{Jaccard}}(\\mathbf{x},\\mathbf{y}) = \\frac{\\sum_{i} \\mathbb{1}(x_i) \\times \\mathbb{1}(y_i)}{\\sum_{i} \\mathbb{1}(x_i+y_i)}$$\n",
    "\n",
    "where $\\mathbb{1}(x)$ is an indicator function ($1$ if $x>0$ and $0$ otherwise)."
   ]
  },
  {
   "cell_type": "code",
   "execution_count": null,
   "metadata": {},
   "outputs": [],
   "source": [
    "def jaccard(x: List[int], y: List[int]) -> float:\n",
    "    \"\"\"Computes the Jaccard similarity between two term vectors.\"\"\"\n",
    "    # TODO Complete this method.\n",
    "    return -1"
   ]
  },
  {
   "cell_type": "markdown",
   "metadata": {},
   "source": [
    "Tests."
   ]
  },
  {
   "cell_type": "code",
   "execution_count": null,
   "metadata": {},
   "outputs": [],
   "source": [
    "%%run_pytest[clean]\n",
    "\n",
    "def test_no_common_terms():\n",
    "    x = [0, 0, 0, 1, 2, 1]\n",
    "    y = [1, 5, 3, 0, 0, 0]\n",
    "    assert jaccard(x, y) == 0\n",
    "\n",
    "def test_only_common_terms():\n",
    "    x = [0, 1, 2, 1, 0, 1]\n",
    "    y = [0, 5, 3, 7, 0, 1]\n",
    "    assert jaccard(x, y) == 1\n",
    "\n",
    "def test_some_common_terms():\n",
    "    x = [0, 1, 1, 0, 1, 1]\n",
    "    y = [5, 0, 3, 0, 7, 0]\n",
    "    assert jaccard(x, y) == 0.4"
   ]
  },
  {
   "cell_type": "markdown",
   "metadata": {},
   "source": [
    "## Cosine similarity\n",
    "\n",
    "$$sim_{cos}(x,y) = \\frac{\\mathbf{x} \\cdot \\mathbf{y}}{||\\mathbf{x}||~||\\mathbf{y}||} = \\frac{\\sum_{i=1}^n x_i y_i}{\\sqrt{\\sum_{i=1}^n x_i^2} \\sqrt{\\sum_{i=1}^n y_i^2}}$$"
   ]
  },
  {
   "cell_type": "code",
   "execution_count": null,
   "metadata": {},
   "outputs": [],
   "source": [
    "def cosine(x: List[float], y: List[float]) -> float:\n",
    "    \"\"\"Computes the Cosine similarity between two term vectors.\"\"\"\n",
    "    # TODO Complete this method.\n",
    "    return -1"
   ]
  },
  {
   "cell_type": "markdown",
   "metadata": {},
   "source": [
    "Tests."
   ]
  },
  {
   "cell_type": "code",
   "execution_count": null,
   "metadata": {},
   "outputs": [],
   "source": [
    "%%run_pytest[clean]\n",
    "\n",
    "def test_no_common_terms():\n",
    "    x = [0, 0, 0, 1, 2, 1]\n",
    "    y = [1, 5, 3, 0, 0, 0]\n",
    "    assert cosine(x, y) == 0\n",
    "\n",
    "def test_identical_docs():\n",
    "    x = [0, 0, 0, 1, 2, 1]\n",
    "    assert cosine(x, x) == pytest.approx(1, rel=1e-3)\n",
    "\n",
    "def test_short_docs():\n",
    "    x = [4, 2]\n",
    "    y = [1, 3]\n",
    "    assert cosine(x, y) == pytest.approx(math.sqrt(2) / 2, rel=1e-3)"
   ]
  }
 ],
 "metadata": {
  "kernelspec": {
   "display_name": "Python 3",
   "language": "python",
   "name": "python3"
  },
  "language_info": {
   "codemirror_mode": {
    "name": "ipython",
    "version": 3
   },
   "file_extension": ".py",
   "mimetype": "text/x-python",
   "name": "python",
   "nbconvert_exporter": "python",
   "pygments_lexer": "ipython3",
   "version": "3.7.4"
  }
 },
 "nbformat": 4,
 "nbformat_minor": 2
}
