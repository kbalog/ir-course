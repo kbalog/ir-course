{
 "cells": [
  {
   "cell_type": "markdown",
   "metadata": {},
   "source": [
    "# Cross-validation\n",
    "\n",
    "In this exercise, we want to split a dataset into train-test splits for k-fold cross-validation. Part of the excercise involves designing appropriate tests for this task."
   ]
  },
  {
   "cell_type": "code",
   "execution_count": null,
   "metadata": {},
   "outputs": [],
   "source": [
    "import ipytest\n",
    "import numpy as np\n",
    "import random\n",
    "from typing import Dict, List\n",
    "\n",
    "ipytest.autoconfig()"
   ]
  },
  {
   "cell_type": "markdown",
   "metadata": {},
   "source": [
    "## Task\n",
    "\n",
    "The dataset is given as a list of instances (by their IDs). Your task is divide it into k folds to perform cross-validation.\n",
    "\n",
    "Each fold should enumerate the instances for the train and test splits.\n",
    "\n",
    "For examples, given `instances = [1, 2, 3]` and `k=3`, the method should return\n",
    "\n",
    "```\n",
    "folds = [\n",
    "    {'train': [1, 2], 'test': [3]},\n",
    "    {'train': [1, 3], 'test': [2]},\n",
    "    {'train': [2, 3], 'test': [1]},\n",
    "]\n",
    "```"
   ]
  },
  {
   "cell_type": "code",
   "execution_count": null,
   "metadata": {},
   "outputs": [],
   "source": [
    "def create_folds(instances: List[int], k: int = 5) -> List[Dict[str, List[int]]]:\n",
    "    \"\"\"Given a set of instances, it returns k splits of train and test.\"\"\"\n",
    "    # Shuffle instances (by first making a copy of them).\n",
    "    instances_shuffled = list(instances)\n",
    "    random.shuffle(instances_shuffled)\n",
    "\n",
    "    folds = []\n",
    "    for i in range(k):\n",
    "        # TODO Complete this part.\n",
    "        folds.append({\n",
    "            'train': [], \n",
    "            'test': []\n",
    "        })\n",
    "    return folds"
   ]
  },
  {
   "cell_type": "markdown",
   "metadata": {},
   "source": [
    "### Tests\n",
    "\n",
    "One simple test is provided, which merely checks if the required number of folds is generated and that each contains the correct number of train and test instances.\n",
    "\n",
    "Part of the exercise is to create some more advanced tests. \n",
    "\n",
    "  - One test should test converage, that is, check that all instances are part of exactly one test fold and k-1 train folds.\n",
    "  - Another test should checks that the folds are sufficiently random, i.e., that you're not always returning the exact same partitioning of instances."
   ]
  },
  {
   "cell_type": "code",
   "execution_count": null,
   "metadata": {},
   "outputs": [],
   "source": [
    "%%run_pytest[clean]\n",
    "\n",
    "def test_fold_size():\n",
    "    instances = list(range(100))\n",
    "    folds = create_folds(instances, k=5)\n",
    "    assert len(folds) == 5\n",
    "    for fold in folds:\n",
    "        assert len(fold['train']) == 80\n",
    "        assert len(fold['test']) == 20\n",
    "\n",
    "def test_coverage():\n",
    "    # TODO Create this test.\n",
    "    assert 0 == 0    \n",
    "    \n",
    "def test_randomization():\n",
    "    # TODO: Create this test.\n",
    "    assert 0 == 0"
   ]
  }
 ],
 "metadata": {
  "kernelspec": {
   "display_name": "Python 3",
   "language": "python",
   "name": "python3"
  },
  "language_info": {
   "codemirror_mode": {
    "name": "ipython",
    "version": 3
   },
   "file_extension": ".py",
   "mimetype": "text/x-python",
   "name": "python",
   "nbconvert_exporter": "python",
   "pygments_lexer": "ipython3",
   "version": "3.7.4"
  }
 },
 "nbformat": 4,
 "nbformat_minor": 2
}
