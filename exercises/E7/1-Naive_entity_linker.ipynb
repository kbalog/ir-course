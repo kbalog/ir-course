{
 "cells": [
  {
   "cell_type": "markdown",
   "metadata": {},
   "source": [
    "# Naive Entity Linker\n",
    "\n",
    "In this exercise, you'll need to create the simplest possible entity linker, which recognizes city names in text and links those to the corresponding Wikipedia page.\n",
    "\n",
    "Since we aim for a minimalistic solution, we won't be dealing with the problem of disambiguation explicitly.  Instead, we construct a surface form dictionary such that each mention is mapped to a single entity.  Then, the task boils down to (i) the construction of the surface form dictionary, and (ii) the recognition of mentions (dictionary keys) in the text.\n",
    "\n",
    "We use part of the Wikipedia URL after the last slash to uniquely represent entities, i.e., as `entity_ID`.\n",
    "\n",
    "The goal is to have a minimalistic working solution first, then expand it iteratively.\n",
    "- For the minimal version, consider only capitals in Europe. (All those cities should have unique names.)\n",
    "- Expand the list of cities by considering other Wikipedia lists and/or DBpedia properties. At this point, we don't deal with ambiguity; if a city name has already been added to the surface form dictionary, we ignore it.\n",
    "- Finally, we resolve ambiguity by considering the more popular sense of the entity. Since we don't have link information easily available, we'll use the population of the city as a proxy. That is, if there are multiple cities with the same name, keep the one in the surface form dictionary with the highest population."
   ]
  },
  {
   "cell_type": "code",
   "execution_count": 10,
   "metadata": {},
   "outputs": [],
   "source": [
    "from typing import Dict, List"
   ]
  },
  {
   "cell_type": "markdown",
   "metadata": {},
   "source": [
    "## 1) Obtain a list of cities"
   ]
  },
  {
   "cell_type": "code",
   "execution_count": 17,
   "metadata": {},
   "outputs": [],
   "source": [
    "def get_cities(seed_cats: List[str]) -> List[str]:\n",
    "    \"\"\"Returns a list of cities represented by their entity_IDs.\n",
    "    \n",
    "    Args:\n",
    "        seed_cats: Names of wikipedia categories that may be used for collecting cities.\n",
    "    \n",
    "    Returns:\n",
    "        List of entity_IDs.\n",
    "    \"\"\"\n",
    "    return []"
   ]
  },
  {
   "cell_type": "code",
   "execution_count": 18,
   "metadata": {},
   "outputs": [],
   "source": [
    "cities = get_cities([])"
   ]
  },
  {
   "cell_type": "markdown",
   "metadata": {},
   "source": [
    "## 2) Create a surface form dictionary\n",
    "\n",
    "We create a dictionary that maps surface forms to entity_IDs (single entity_ID per surface form)."
   ]
  },
  {
   "cell_type": "code",
   "execution_count": 19,
   "metadata": {},
   "outputs": [],
   "source": [
    "def create_sf_dict(cities: List[str]) -> Dict[str, str]:\n",
    "    \"\"\"Creates a surface form dictionary for a given list of cities.\n",
    "    \n",
    "    Args:\n",
    "        cities: List of entity_IDs of cities.\n",
    "    \n",
    "    Returns:\n",
    "        Dictionary with mention as key and entity_ID as value.\n",
    "    \"\"\"\n",
    "    # TODO: Complete.\n",
    "    return {}"
   ]
  },
  {
   "cell_type": "code",
   "execution_count": 21,
   "metadata": {},
   "outputs": [],
   "source": [
    "sf_dict = create_sf_dict(cities)"
   ]
  },
  {
   "cell_type": "markdown",
   "metadata": {},
   "source": [
    "## 3) Perform entity linking\n",
    "\n",
    "Perform entity linking with the help of the surface form dictionary. In case of overlapping mentions, link the longer one (e.g., if both \"Amsterdam\" and \"New Amsterdam\" are present in the surface form dictionary, then the mention \"New Amsterdam\" should be linked to the latter)."
   ]
  },
  {
   "cell_type": "code",
   "execution_count": 22,
   "metadata": {},
   "outputs": [],
   "source": [
    "def perform_linking(input_text: str, sf_dict: Dict[str, str]) -> str:\n",
    "    \"\"\"Annotates a given input text with entities.\n",
    "    \n",
    "    Args:\n",
    "        input_text: Input text.\n",
    "        sf_dict: Surface form dictionary, mapping each mention to a canonical entity.\n",
    "    \n",
    "    Returns:\n",
    "        Annotated text where linked entity mentions are marked up as `[mention](entity_ID)`.\n",
    "    \"\"\"\n",
    "    annotated_text = input_text\n",
    "    # TODO: Complete.\n",
    "    return annotated_text"
   ]
  },
  {
   "cell_type": "markdown",
   "metadata": {},
   "source": [
    "Tests."
   ]
  },
  {
   "cell_type": "code",
   "execution_count": 8,
   "metadata": {},
   "outputs": [],
   "source": [
    "# TODO: It is your task to write some tests."
   ]
  },
  {
   "cell_type": "markdown",
   "metadata": {},
   "source": [
    "## 4) Render links\n",
    "\n",
    "Assuming that you have added entity annotations to the input text in `[mention](entity_ID)` format, render that text as clickable links.  Essentially, you'll need to replace `[mention](entity_ID)` with `<a href=\"https://en.wikipedia.org/wiki/{entity_ID}\">{mention}</a>` (where `{}` indicates variable placeholders)."
   ]
  },
  {
   "cell_type": "code",
   "execution_count": 23,
   "metadata": {},
   "outputs": [],
   "source": [
    "def render_links(annotated_text: str) -> str:\n",
    "    # TODO: complete.\n",
    "    return annotated_text"
   ]
  },
  {
   "cell_type": "markdown",
   "metadata": {},
   "source": [
    "Instead of writing an automated test, we will simply look at the results."
   ]
  },
  {
   "cell_type": "code",
   "execution_count": 25,
   "metadata": {},
   "outputs": [
    {
     "name": "stdout",
     "output_type": "stream",
     "text": [
      "This is an example mention of Amsterdam.\n"
     ]
    }
   ],
   "source": [
    "annotated_text = perform_linking(\"This is an example mention of Amsterdam.\", sf_dict)\n",
    "print(render_links(annotated_text))"
   ]
  }
 ],
 "metadata": {
  "kernelspec": {
   "display_name": "Python 3",
   "language": "python",
   "name": "python3"
  },
  "language_info": {
   "codemirror_mode": {
    "name": "ipython",
    "version": 3
   },
   "file_extension": ".py",
   "mimetype": "text/x-python",
   "name": "python",
   "nbconvert_exporter": "python",
   "pygments_lexer": "ipython3",
   "version": "3.7.4"
  }
 },
 "nbformat": 4,
 "nbformat_minor": 2
}
