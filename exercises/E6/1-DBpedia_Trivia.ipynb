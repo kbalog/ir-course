{
 "cells": [
  {
   "cell_type": "markdown",
   "metadata": {},
   "source": [
    "# Trivia quiz using DBpedia\n",
    "\n",
    "In this exercise, you'll have to answer some trivia questions with the help of DBpedia.  "
   ]
  },
  {
   "cell_type": "code",
   "execution_count": null,
   "metadata": {},
   "outputs": [],
   "source": [
    "from typing import Any, Tuple\n",
    "\n",
    "import hashlib\n",
    "import numpy as np\n",
    "import requests\n",
    "import urllib.parse"
   ]
  },
  {
   "cell_type": "markdown",
   "metadata": {},
   "source": [
    "Utility method for fetching all triples associated with a given entity from DBpedia."
   ]
  },
  {
   "cell_type": "code",
   "execution_count": null,
   "metadata": {},
   "outputs": [],
   "source": [
    "def get_triples(entity_id: str) -> Tuple[str, str, Any]:\n",
    "    \"\"\"Returns all triples from DBpedia associated with a given entity.\n",
    "        \n",
    "    Args:\n",
    "        entity_id: Unique entity identifier (e.g., \"Kimi_Räikkönen\")\n",
    "    \n",
    "    Yields:\n",
    "        (subject, predicate, object) triples where the given entity\n",
    "        stands either as subject or as object.\n",
    "        \n",
    "    Raises:\n",
    "        ValueError: If invalid or not the canonical entity ID is provided.\n",
    "    \"\"\"\n",
    "    # Fetch DBpedia entry in JSON format.\n",
    "    # <SPO> triples are represented in the JSON as {S: P: [O1, O2, ...]},\n",
    "    # i.e., multi-valued predicates are grouped together.\n",
    "    data = requests.get(f\"http://dbpedia.org/data/{entity_id}.json\").json()\n",
    "    \n",
    "    # Check whether valid entity ID is provided.\n",
    "    entity_uri = f\"http://dbpedia.org/resource/{entity_id}\"\n",
    "    if entity_uri not in data:\n",
    "        raise ValueError(\"Invalid entity ID.\")\n",
    "        \n",
    "    # Check whether this is the canonical entity ID.\n",
    "    if \"http://www.w3.org/1999/02/22-rdf-syntax-ns#type\" not in data[entity_uri]:\n",
    "        raise ValueError(\"Not the canonical entity ID.\")\n",
    "\n",
    "    for subj, vals in data.items():                \n",
    "        for pred, objs in vals.items():\n",
    "            for obj in objs:\n",
    "                yield subj, pred, obj[\"value\"]"
   ]
  },
  {
   "cell_type": "markdown",
   "metadata": {},
   "source": [
    "## Example\n",
    "\n",
    "Compare with the information at https://dbpedia.org/page/Kimi_R%C3%A4ikk%C3%B6nen."
   ]
  },
  {
   "cell_type": "code",
   "execution_count": null,
   "metadata": {},
   "outputs": [],
   "source": [
    "triples_kimi = [(s, p, o) for s, p, o in get_triples(\"Kimi_Räikkönen\")]\n",
    "\n",
    "for s, p, o in triples_kimi:\n",
    "    print(s, p, o)"
   ]
  },
  {
   "cell_type": "markdown",
   "metadata": {},
   "source": [
    "Types."
   ]
  },
  {
   "cell_type": "code",
   "execution_count": null,
   "metadata": {},
   "outputs": [],
   "source": [
    "for s, p, o in triples_kimi:\n",
    "    if s != \"http://dbpedia.org/resource/Kimi_Räikkönen\":\n",
    "        continue\n",
    "    if p == \"http://www.w3.org/1999/02/22-rdf-syntax-ns#type\":\n",
    "        print(o)"
   ]
  },
  {
   "cell_type": "markdown",
   "metadata": {},
   "source": [
    "Birth place and date."
   ]
  },
  {
   "cell_type": "code",
   "execution_count": null,
   "metadata": {},
   "outputs": [],
   "source": [
    "for s, p, o in triples_kimi:\n",
    "    if s != \"http://dbpedia.org/resource/Kimi_Räikkönen\":\n",
    "        continue\n",
    "    if \"birthPlace\" in p or \"birthDate\" in p:\n",
    "        print(o)"
   ]
  },
  {
   "cell_type": "markdown",
   "metadata": {},
   "source": [
    "## Quiz questions\n",
    "\n",
    "Answer the questions below.\n",
    "\n",
    "You're allowed to find the exact answers either manually or programmatically, as long as you get the underlying data programmatically using the provided `fetch_entity()` method.\n",
    "\n",
    "Since tests for this exercise would reveal the correct answer, they are based on MD5 hashes."
   ]
  },
  {
   "cell_type": "markdown",
   "metadata": {},
   "source": [
    "### 1) How many Formula 1 Grand Prixes has Kimi Räikkönen won?"
   ]
  },
  {
   "cell_type": "code",
   "execution_count": null,
   "metadata": {},
   "outputs": [],
   "source": [
    "# TODO: Answer is expected as an int.\n",
    "num_wins = 0"
   ]
  },
  {
   "cell_type": "code",
   "execution_count": null,
   "metadata": {},
   "outputs": [],
   "source": [
    "assert hashlib.md5(np.int8(num_wins)).hexdigest() == \"f5a7e477cd3042b49a9085d62307cd28\""
   ]
  },
  {
   "cell_type": "markdown",
   "metadata": {},
   "source": [
    "### 2) Is Kimi Räikkönen married?\n",
    "\n",
    "Return the string \"Y\" or \"N\"."
   ]
  },
  {
   "cell_type": "code",
   "execution_count": null,
   "metadata": {},
   "outputs": [],
   "source": [
    "# TODO: Return \"Y\" or \"N\"\n",
    "married = \"\""
   ]
  },
  {
   "cell_type": "code",
   "execution_count": null,
   "metadata": {},
   "outputs": [],
   "source": [
    "assert hashlib.md5(bytes(married, \"utf-8\")).hexdigest() == \"57cec4137b614c87cb4e24a3d003a3e0\""
   ]
  },
  {
   "cell_type": "markdown",
   "metadata": {},
   "source": [
    "### 3) In which country did Kimi win his first Grand Prix?\n",
    "\n",
    "Return the canonical name of the country as a string."
   ]
  },
  {
   "cell_type": "code",
   "execution_count": null,
   "metadata": {},
   "outputs": [],
   "source": [
    "# TODO: Return the name of the country\n",
    "country = \"\""
   ]
  },
  {
   "cell_type": "code",
   "execution_count": null,
   "metadata": {},
   "outputs": [],
   "source": [
    "assert hashlib.md5(bytes(country, \"utf-8\")).hexdigest() == \"3f0e49c46cbde0c7adf5ea04a97ab261\""
   ]
  }
 ],
 "metadata": {
  "kernelspec": {
   "display_name": "Python 3",
   "language": "python",
   "name": "python3"
  },
  "language_info": {
   "codemirror_mode": {
    "name": "ipython",
    "version": 3
   },
   "file_extension": ".py",
   "mimetype": "text/x-python",
   "name": "python",
   "nbconvert_exporter": "python",
   "pygments_lexer": "ipython3",
   "version": "3.7.4"
  }
 },
 "nbformat": 4,
 "nbformat_minor": 2
}
