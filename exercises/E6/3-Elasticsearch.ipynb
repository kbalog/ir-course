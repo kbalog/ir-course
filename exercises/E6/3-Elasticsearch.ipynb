{
 "cells": [
  {
   "cell_type": "markdown",
   "metadata": {},
   "source": [
    "# Elasticsearch"
   ]
  },
  {
   "cell_type": "markdown",
   "metadata": {},
   "source": [
    "In this exercise, you'll first build an Elasticsearch index of a toy document collection, then request various term statistics from that index.\n",
    "\n",
    "Remember to make sure that the Elasticsearch service is running (i.e., has been started in a terminal window).\n",
    "\n",
    "See [this document](Elasticsearch.md) for help on Elasticsearch usage."
   ]
  },
  {
   "cell_type": "code",
   "execution_count": null,
   "metadata": {},
   "outputs": [],
   "source": [
    "from elasticsearch import Elasticsearch\n",
    "from typing import Dict, List, Optional\n",
    "\n",
    "import ipytest\n",
    "import pytest\n",
    "\n",
    "ipytest.autoconfig()"
   ]
  },
  {
   "cell_type": "markdown",
   "metadata": {},
   "source": [
    "This is to check that the Elasticsearch service is running on your machine."
   ]
  },
  {
   "cell_type": "code",
   "execution_count": null,
   "metadata": {},
   "outputs": [],
   "source": [
    "es = Elasticsearch()"
   ]
  },
  {
   "cell_type": "markdown",
   "metadata": {},
   "source": [
    "## Indexing"
   ]
  },
  {
   "cell_type": "markdown",
   "metadata": {},
   "source": [
    "We use a toy data collection with 5 documents, each with title and content fields."
   ]
  },
  {
   "cell_type": "code",
   "execution_count": null,
   "metadata": {},
   "outputs": [],
   "source": [
    "DOCS = [\n",
    "    {\"doc_id\": \"D1\",\n",
    "     \"title\": \"First document\",\n",
    "     \"content\": \"House on the hill\"\n",
    "    },\n",
    "    {\"doc_id\": \"D2\",\n",
    "     \"title\": \"Second title\",\n",
    "     \"content\": \"Downtown Stavanger is beautiful\"\n",
    "    },\n",
    "    {\"doc_id\": \"D3\",\n",
    "     \"title\": \"First, second, and third\",\n",
    "     \"content\": \"Never step on snakes\"\n",
    "    },\n",
    "    {\"doc_id\": \"D4\",\n",
    "     \"title\": \"Document number four\",\n",
    "     \"content\": \"House, house. It's a beautiful house you have\"\n",
    "    },\n",
    "    {\"doc_id\": \"D5\",\n",
    "     \"title\": \"This document is the last document\",\n",
    "     \"content\": \"There can be only one matching result\"\n",
    "    }    \n",
    "]"
   ]
  },
  {
   "cell_type": "code",
   "execution_count": null,
   "metadata": {},
   "outputs": [],
   "source": [
    "INDEX_SETTINGS = {  # single shard with a single replica\n",
    "    \"settings\" : {\n",
    "        \"index\" : {\n",
    "            \"number_of_shards\" : 1,\n",
    "            \"number_of_replicas\" : 1\n",
    "        }\n",
    "    }\n",
    "}"
   ]
  },
  {
   "cell_type": "code",
   "execution_count": null,
   "metadata": {},
   "outputs": [],
   "source": [
    "INDEX_NAME = \"test_e6-3\""
   ]
  },
  {
   "cell_type": "code",
   "execution_count": null,
   "metadata": {},
   "outputs": [],
   "source": [
    "if es.indices.exists(INDEX_NAME):\n",
    "    es.indices.delete(index=INDEX_NAME)\n",
    "es.indices.create(index=INDEX_NAME, body=INDEX_SETTINGS)"
   ]
  },
  {
   "cell_type": "markdown",
   "metadata": {},
   "source": [
    "Add documents in `DOC` to the index."
   ]
  },
  {
   "cell_type": "code",
   "execution_count": null,
   "metadata": {},
   "outputs": [],
   "source": [
    "# TODO"
   ]
  },
  {
   "cell_type": "markdown",
   "metadata": {},
   "source": [
    "## Term statistics"
   ]
  },
  {
   "cell_type": "markdown",
   "metadata": {},
   "source": [
    "Complete the methods below for getting various term statistics from the index.\n",
    "\n",
    "Consult [this notebook](2-Elasticsearch.ipynb) for the interpretation of term vector statistics."
   ]
  },
  {
   "cell_type": "code",
   "execution_count": null,
   "metadata": {},
   "outputs": [],
   "source": [
    "def get_doc_term_freqs(index_name: str, doc_id: str, field: str) -> Dict[str, int]:\n",
    "    \"\"\"Returns the terms along with their frequencies contained in a given document.\n",
    "    \n",
    "    Args:\n",
    "        index_name: Name of index.\n",
    "        doc_id: Document ID.\n",
    "        field: Field name.\n",
    "    \n",
    "    Returns:\n",
    "        Dict with terms as keys and corresponding frequencies (i.e., \n",
    "        number of occurrences within the given document field) as values.\n",
    "    \"\"\"\n",
    "    # TODO: Complete\n",
    "    return None"
   ]
  },
  {
   "cell_type": "code",
   "execution_count": null,
   "metadata": {},
   "outputs": [],
   "source": [
    "def get_doc_field_len(index_name: str, doc_id: str, field: str) -> int:\n",
    "    \"\"\"Returns the length of a given document field.\n",
    "    \n",
    "    Length is defined as the total number of terms contained in that field.\n",
    "    \n",
    "    Args:\n",
    "        index_name: Name of index.\n",
    "        doc_id: Document ID.\n",
    "        field: Field name.\n",
    "    \n",
    "    Returns:\n",
    "        Field length.    \n",
    "    \"\"\"\n",
    "    # TODO: Complete\n",
    "    return None"
   ]
  },
  {
   "cell_type": "code",
   "execution_count": null,
   "metadata": {},
   "outputs": [],
   "source": [
    "def get_doc_containing_term(index_name: str, field: str, term: str) -> Optional[str]:\n",
    "    \"\"\"Returns any document ID that contains term in a given field or None.\n",
    "    \n",
    "    Args:\n",
    "        index_name: Name of index.\n",
    "        field: Field name.\n",
    "        term: Term.\n",
    "\n",
    "    Returns:\n",
    "        ID of a document that contains `term` or None.\n",
    "    \"\"\"\n",
    "    # TODO: Complete\n",
    "    # Hint: Use a boolean query to find a document that contains the term.\n",
    "    return None"
   ]
  },
  {
   "cell_type": "code",
   "execution_count": null,
   "metadata": {},
   "outputs": [],
   "source": [
    "def get_term_doc_count(index_name: str, field: str, term: str) -> int:\n",
    "    \"\"\"Returns the total number of documents that contain a given term within a specific field.\n",
    "    \n",
    "    Args:\n",
    "        index_name: Name of index.\n",
    "        field: Field name.\n",
    "        term: Term.\n",
    "        \n",
    "    Returns:\n",
    "        Number of documents that contain the given term within `field`.\n",
    "    \"\"\"\n",
    "    # Find a document that contains the term.\n",
    "    doc_id = get_doc_containing_term(index_name, field, term)\n",
    "    if doc_id is None:\n",
    "        return 0\n",
    "    # Request term statistics for that document and extract the \n",
    "    # requested information from there.\n",
    "    # TODO: Complete\n",
    "    return None    "
   ]
  },
  {
   "cell_type": "code",
   "execution_count": null,
   "metadata": {},
   "outputs": [],
   "source": [
    "def get_term_coll_freq(index_name: str, field: str, term: str) -> int:\n",
    "    \"\"\"Returns the total collection term frequency of a term in a given field.\n",
    "    \n",
    "    Args:\n",
    "        index_name: Name of index.\n",
    "        field: Field name.\n",
    "        term: Term.\n",
    "        \n",
    "    Returns:\n",
    "        Total number of occurrences of `term` in all documents within `field`.\n",
    "    \"\"\"\n",
    "    # Find a document that contains the term.\n",
    "    doc_id = get_doc_containing_term(index_name, field, term)\n",
    "    if doc_id is None:\n",
    "        return 0\n",
    "    # Request term statistics for that document and extract the \n",
    "    # requested information from there.\n",
    "    # TODO: Complete\n",
    "    return None"
   ]
  },
  {
   "cell_type": "markdown",
   "metadata": {},
   "source": [
    "Tests."
   ]
  },
  {
   "cell_type": "code",
   "execution_count": null,
   "metadata": {},
   "outputs": [],
   "source": [
    "%%run_pytest[clean]\n",
    "\n",
    "def test_doc_term_freqs():\n",
    "    assert get_doc_term_freqs(INDEX_NAME, \"D2\", \"title\") == {\"second\": 1, \"title\": 1}\n",
    "    assert get_doc_term_freqs(INDEX_NAME, \"D4\", \"content\") == {\"a\": 1, \"beautiful\": 1, \"have\": 1,\n",
    "                                                               \"house\": 3, \"it's\": 1, \"you\": 1}    \n",
    "def test_doc_field_len():\n",
    "    assert get_doc_field_len(INDEX_NAME, \"D2\", \"title\") == 2\n",
    "    assert get_doc_field_len(INDEX_NAME, \"D4\", \"content\") == 8\n",
    "    \n",
    "def test_doc_containing_term():\n",
    "    assert get_doc_containing_term(INDEX_NAME, \"title\", \"document\") in [\"D1\", \"D4\", \"D5\"]\n",
    "    assert get_doc_containing_term(INDEX_NAME, \"content\", \"house\") in [\"D1\", \"D4\"]\n",
    "    \n",
    "def test_term_doc_count():\n",
    "    assert get_term_doc_count(INDEX_NAME, \"title\", \"document\") == 3\n",
    "    assert get_term_doc_count(INDEX_NAME, \"content\", \"house\") == 2    \n",
    "    \n",
    "def test_term_coll_freq():\n",
    "    assert get_term_coll_freq(INDEX_NAME, \"title\", \"this\") == 1\n",
    "    assert get_term_coll_freq(INDEX_NAME, \"title\", \"document\") == 4\n",
    "    assert get_term_coll_freq(INDEX_NAME, \"content\", \"house\") == 4       "
   ]
  }
 ],
 "metadata": {
  "kernelspec": {
   "display_name": "Python 3",
   "language": "python",
   "name": "python3"
  },
  "language_info": {
   "codemirror_mode": {
    "name": "ipython",
    "version": 3
   },
   "file_extension": ".py",
   "mimetype": "text/x-python",
   "name": "python",
   "nbconvert_exporter": "python",
   "pygments_lexer": "ipython3",
   "version": "3.7.4"
  }
 },
 "nbformat": 4,
 "nbformat_minor": 2
}
