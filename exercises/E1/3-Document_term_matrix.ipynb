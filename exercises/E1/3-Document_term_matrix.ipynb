{
 "cells": [
  {
   "cell_type": "markdown",
   "metadata": {},
   "source": [
    "# Document-term matrix generation\n",
    "\n",
    "In this exercise, you'll have to generate a document-term matrix from an input list of preprocessed documents."
   ]
  },
  {
   "cell_type": "code",
   "execution_count": null,
   "metadata": {},
   "outputs": [],
   "source": [
    "from typing import List, Tuple\n",
    "import ipytest\n",
    "import pytest\n",
    "\n",
    "ipytest.autoconfig()"
   ]
  },
  {
   "cell_type": "markdown",
   "metadata": {},
   "source": [
    "Input documents are given as lists of tokenized terms."
   ]
  },
  {
   "cell_type": "code",
   "execution_count": null,
   "metadata": {},
   "outputs": [],
   "source": [
    "DOCUMENTS = [\n",
    "    [\"aaa\", \"bbb\", \"ccc\"],\n",
    "    [\"eee\", \"fff\"],\n",
    "    [\"aaa\", \"eee\", \"aaa\", \"ccc\", \"fff\", \"fff\", \"ggg\", \"aaa\"],\n",
    "    [\"bbb\", \"bbb\", \"bbb\"],\n",
    "    [\"ggg\", \"fff\", \"ccc\", \"aaa\", \"ccc\"],\n",
    "]"
   ]
  },
  {
   "cell_type": "markdown",
   "metadata": {},
   "source": [
    "Your task is to complete this method:"
   ]
  },
  {
   "cell_type": "code",
   "execution_count": null,
   "metadata": {},
   "outputs": [],
   "source": [
    "def get_doc_term_matrix(docs: List[List[str]]) -> Tuple[List[List[int]], List[str]]:\n",
    "    \"\"\"Generates a document-term matrix and the corresponding vocabulary.\n",
    "    \n",
    "    Args:\n",
    "        docs: List of documents, each given by a list of tokenized terms.\n",
    "        \n",
    "    Returns:\n",
    "        Tuple consisting of the document-term matrix and the corresponding vocabulary.\n",
    "        In the document-term matrix row `i` corresponds to `docs[i]` and column `j`\n",
    "        corresponds to the jth element of the vocabulary. Values represent the number\n",
    "        of times the term appears in the document.\n",
    "        Terms may be in any order in the vocabulary.\n",
    "    \"\"\"\n",
    "    vocabulary = []\n",
    "    doc_term_matrix = []\n",
    "    # TODO Complete method.\n",
    "    return doc_term_matrix, vocabulary"
   ]
  },
  {
   "cell_type": "markdown",
   "metadata": {},
   "source": [
    "Tests."
   ]
  },
  {
   "cell_type": "code",
   "execution_count": null,
   "metadata": {},
   "outputs": [],
   "source": [
    "%%run_pytest[clean]\n",
    "\n",
    "def test_num_docs():\n",
    "    doc_term_matrix, _ = get_doc_term_matrix(DOCUMENTS)\n",
    "    assert len(doc_term_matrix) == len(DOCUMENTS)\n",
    "    \n",
    "def test_vocabulary():\n",
    "    _, vocabulary = get_doc_term_matrix(DOCUMENTS)\n",
    "    assert set(vocabulary) == {\"aaa\", \"bbb\", \"ccc\", \"eee\", \"fff\", \"ggg\"}\n",
    "    \n",
    "def test_term_counts():\n",
    "    doc_term_matrix, vocabulary = get_doc_term_matrix(DOCUMENTS)\n",
    "    idx_aaa = vocabulary.index(\"aaa\")\n",
    "    idx_ccc = vocabulary.index(\"ccc\")\n",
    "    idx_fff = vocabulary.index(\"fff\")\n",
    "    assert doc_term_matrix[0][idx_aaa] == 1\n",
    "    assert doc_term_matrix[0][idx_ccc] == 1\n",
    "    assert doc_term_matrix[0][idx_fff] == 0\n",
    "    assert doc_term_matrix[2][idx_aaa] == 3\n",
    "    assert doc_term_matrix[2][idx_ccc] == 1\n",
    "    assert doc_term_matrix[2][idx_fff] == 2"
   ]
  }
 ],
 "metadata": {
  "interpreter": {
   "hash": "d6a0b9ba27f634b55723b9a72ccf6e1561be2239a81593bce53747f2fee7a1a2"
  },
  "kernelspec": {
   "display_name": "Python 3",
   "language": "python",
   "name": "python3"
  },
  "language_info": {
   "codemirror_mode": {
    "name": "ipython",
    "version": 3
   },
   "file_extension": ".py",
   "mimetype": "text/x-python",
   "name": "python",
   "nbconvert_exporter": "python",
   "pygments_lexer": "ipython3",
   "version": "3.7.4"
  }
 },
 "nbformat": 4,
 "nbformat_minor": 2
}
