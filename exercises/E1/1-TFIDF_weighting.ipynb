{
 "cells": [
  {
   "cell_type": "markdown",
   "metadata": {},
   "source": [
    "# TF-IDF weighting\n",
    "\n",
    "In this exercise, you'll have to compute term weightings (TF, IDF, and TF-IDF) based on a document-term matrix."
   ]
  },
  {
   "cell_type": "code",
   "execution_count": null,
   "metadata": {},
   "outputs": [],
   "source": [
    "from typing import List\n",
    "import ipytest\n",
    "import math\n",
    "import pytest\n",
    "\n",
    "ipytest.autoconfig()"
   ]
  },
  {
   "cell_type": "markdown",
   "metadata": {},
   "source": [
    "The document-term vector contains the raw term frequencies for each term in the document."
   ]
  },
  {
   "cell_type": "code",
   "execution_count": null,
   "metadata": {},
   "outputs": [],
   "source": [
    "DOC_TERM_MATRIX = [\n",
    "    [0, 0, 3, 0, 0, 0],\n",
    "    [1, 1, 2, 0, 0, 0],\n",
    "    [0, 0, 2, 1, 1, 0],\n",
    "    [0, 0, 0, 1, 1, 0],\n",
    "    [1, 1, 1, 0, 1, 1]\n",
    "]"
   ]
  },
  {
   "cell_type": "markdown",
   "metadata": {},
   "source": [
    "## Task 1: TF weighting\n",
    "\n",
    "Compute the L1-normalized term frequency vector for a given document.\n",
    "\n",
    "The L1-normalized frequency of a single term in a document is given by:\n",
    "\n",
    "$$tf_{t,d}=\\frac{c_{t,d}}{|d|}$$ \n",
    "\n",
    "where $c_{t,d}$ is the count of occurrences of term $t$ in document $d$ and $|d|$ is the document length (total number of terms)."
   ]
  },
  {
   "cell_type": "code",
   "execution_count": null,
   "metadata": {},
   "outputs": [],
   "source": [
    "def get_tf_vector(doc_term_vector: List[int]) -> List[float]:    \n",
    "    \"\"\"Computes the normalized term frequency vector from a raw term-frequency vector.\"\"\"\n",
    "    # TODO Complete this method.\n",
    "    return [0] * len(doc_term_vector)"
   ]
  },
  {
   "cell_type": "markdown",
   "metadata": {},
   "source": [
    "Tests."
   ]
  },
  {
   "cell_type": "code",
   "execution_count": null,
   "metadata": {},
   "outputs": [],
   "source": [
    "%%run_pytest[clean]\n",
    "\n",
    "def test_tf_doc0():\n",
    "    assert get_tf_vector(DOC_TERM_MATRIX[0]) == [0, 0, 1, 0, 0, 0]\n",
    "    \n",
    "def test_tf_doc1():\n",
    "    assert get_tf_vector(DOC_TERM_MATRIX[1]) == [0.25, 0.25, 0.5, 0, 0, 0]"
   ]
  },
  {
   "cell_type": "markdown",
   "metadata": {},
   "source": [
    "## Task 2: IDF weighting\n",
    "\n",
    "Compute the IDF weight of a term given by\n",
    "\n",
    "$$idf_{t}=\\log \\frac{N}{n_t}$$ \n",
    "\n",
    "where $N$ is the total number of documents and $n_t$ is the number of documents that contain term $t$.\n",
    "**Use base-10 logarithm in this exercise.**"
   ]
  },
  {
   "cell_type": "code",
   "execution_count": null,
   "metadata": {},
   "outputs": [],
   "source": [
    "def get_term_idf(doc_term_matrix: List[List[int]], term_index: int) -> float:\n",
    "    \"\"\"Computes the IDF value of a term, given by its index, based on a document-term matrix.\"\"\"\n",
    "    # TODO Complete this method.\n",
    "    return 0"
   ]
  },
  {
   "cell_type": "markdown",
   "metadata": {},
   "source": [
    "Tests."
   ]
  },
  {
   "cell_type": "code",
   "execution_count": null,
   "metadata": {},
   "outputs": [],
   "source": [
    "%%run_pytest[clean]\n",
    "\n",
    "def test_idf_term0():\n",
    "    assert get_term_idf(DOC_TERM_MATRIX, 0) == pytest.approx(0.3979, rel=1e-3)\n",
    "    \n",
    "def test_idf_term2():\n",
    "    assert get_term_idf(DOC_TERM_MATRIX, 2) == pytest.approx(0.0969, rel=1e-3)"
   ]
  },
  {
   "cell_type": "markdown",
   "metadata": {},
   "source": [
    "## Task 3: TF-IDF weighting\n",
    "\n",
    "Compute the TF-IDF vector for a given document, where the TF-IDF weight of a term in a document is given by:\n",
    "\n",
    "$$ tfidf_{t,d} = tf_{t,d} \\times idf_{t}$$"
   ]
  },
  {
   "cell_type": "code",
   "execution_count": null,
   "metadata": {},
   "outputs": [],
   "source": [
    "def get_tfidf_vector(doc_term_matrix: List[List[int]], doc_index: int) -> List[float]:\n",
    "    \"\"\"Computes the TFIDF vector from a raw term-frequency vector.\"\"\"\n",
    "    # TODO Complete this method.\n",
    "    return [0] * len(doc_term_vector[doc_index])"
   ]
  },
  {
   "cell_type": "markdown",
   "metadata": {},
   "source": [
    "Tests."
   ]
  },
  {
   "cell_type": "code",
   "execution_count": null,
   "metadata": {},
   "outputs": [],
   "source": [
    "%%run_pytest[clean]\n",
    "\n",
    "def test_tfidf_doc0():\n",
    "    assert get_tfidf_vector(DOC_TERM_MATRIX, 0) == pytest.approx([0, 0, 0.0969, 0, 0, 0], rel=1e-3)"
   ]
  }
 ],
 "metadata": {
  "interpreter": {
   "hash": "d6a0b9ba27f634b55723b9a72ccf6e1561be2239a81593bce53747f2fee7a1a2"
  },
  "kernelspec": {
   "display_name": "Python 3",
   "language": "python",
   "name": "python3"
  },
  "language_info": {
   "codemirror_mode": {
    "name": "ipython",
    "version": 3
   },
   "file_extension": ".py",
   "mimetype": "text/x-python",
   "name": "python",
   "nbconvert_exporter": "python",
   "pygments_lexer": "ipython3",
   "version": "3.7.4"
  }
 },
 "nbformat": 4,
 "nbformat_minor": 2
}
