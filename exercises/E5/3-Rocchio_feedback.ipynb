{
 "cells": [
  {
   "cell_type": "markdown",
   "metadata": {},
   "source": [
    "# Rocchio feedback"
   ]
  },
  {
   "cell_type": "code",
   "execution_count": null,
   "metadata": {},
   "outputs": [],
   "source": [
    "import ipytest\n",
    "import pytest\n",
    "from typing import List\n",
    "\n",
    "ipytest.autoconfig()"
   ]
  },
  {
   "cell_type": "markdown",
   "metadata": {},
   "source": [
    "Vocabulary"
   ]
  },
  {
   "cell_type": "code",
   "execution_count": null,
   "metadata": {},
   "outputs": [],
   "source": [
    "DT_MATRIX = [\n",
    "    [1.5, 0.1, 0, 0, 0, 0],\n",
    "    [1.5, 0.1, 0, 2, 2, 0],\n",
    "    [1.5, 0, 3, 2, 0, 0],\n",
    "    [1.5, 0, 4, 2, 0, 0], \n",
    "    [1.5, 0, 0, 6, 2, 0]\n",
    "]"
   ]
  },
  {
   "cell_type": "markdown",
   "metadata": {},
   "source": [
    "Query vector"
   ]
  },
  {
   "cell_type": "code",
   "execution_count": null,
   "metadata": {},
   "outputs": [],
   "source": [
    "Q = [1, 1, 1, 1, 0, 0]"
   ]
  },
  {
   "cell_type": "markdown",
   "metadata": {},
   "source": [
    "Document-term matrix (each row corresponds to a document vector)"
   ]
  },
  {
   "cell_type": "code",
   "execution_count": null,
   "metadata": {},
   "outputs": [],
   "source": [
    "DT_MATRIX = [\n",
    "    [1.5, 0.1, 0, 0, 0, 0],\n",
    "    [1.5, 0.1, 0, 2, 2, 0],\n",
    "    [1.5, 0, 3, 2, 0, 0],\n",
    "    [1.5, 0, 4, 2, 0, 0], \n",
    "    [1.5, 0, 0, 6, 2, 0]\n",
    "]"
   ]
  },
  {
   "cell_type": "markdown",
   "metadata": {},
   "source": [
    "Feedback: IDs (indices) of positive and negative documents"
   ]
  },
  {
   "cell_type": "code",
   "execution_count": null,
   "metadata": {},
   "outputs": [],
   "source": [
    "D_POS = [2, 3]\n",
    "D_NEG = [0, 1, 4]"
   ]
  },
  {
   "cell_type": "markdown",
   "metadata": {},
   "source": [
    "## Rocchio feedback\n",
    "\n",
    "Compute the updated query according to:\n",
    "$$\\vec{q}_m = \\alpha \\vec{q} + \\frac{\\beta}{|D^+|}\\sum_{d \\in D^+}\\vec{d} - \\frac{\\gamma}{|D^-|}\\sum_{d \\in D^-}\\vec{d}$$\n",
    "\n",
    "where\n",
    "  - $\\vec{d}$ is the original query vector\n",
    "  - $D^+, D^-$ are set of relevant and non-relevant feedback documents\n",
    "  - $\\alpha, \\beta, \\gamma$ are parameters that control the movement of the original vector"
   ]
  },
  {
   "cell_type": "markdown",
   "metadata": {},
   "source": [
    "**TODO** Complete the method below. (You may use the global variables `VOCAB` and `DT_MATRIX`.) "
   ]
  },
  {
   "cell_type": "code",
   "execution_count": null,
   "metadata": {},
   "outputs": [],
   "source": [
    "def get_updated_query(\n",
    "    q: List[int], d_pos: List[int], d_neg: List[int], \n",
    "    alpha: float, beta: float, gamma: float\n",
    ") -> List[int]:\n",
    "    \"\"\"Computes an updated query model using Rocchio feedback.\n",
    "    \n",
    "    Args:\n",
    "        q: Query vector.\n",
    "        d_pos: List of positive feedback document IDs.\n",
    "        d_neg: List of positive feedback document IDs.\n",
    "        alpha: Feedback parameter alpha.\n",
    "        beta: Feedback parameter beta.\n",
    "        gamma: Feedback parameter gamma.\n",
    "    \n",
    "    Returns:\n",
    "        Updated query vector.\n",
    "    \"\"\"\n",
    "    # TODO complete this method\n",
    "    q_m = [0 for t in q]\n",
    "            \n",
    "    return q_m"
   ]
  },
  {
   "cell_type": "markdown",
   "metadata": {},
   "source": [
    "Tests."
   ]
  },
  {
   "cell_type": "code",
   "execution_count": null,
   "metadata": {},
   "outputs": [],
   "source": [
    "%%run_pytest[clean]\n",
    "\n",
    "def test_no_expansion():\n",
    "    q_m = get_updated_query(Q, D_POS, D_NEG, 1, 0, 0)\n",
    "    assert q_m == Q\n",
    "\n",
    "def test_expansion():\n",
    "    q_m = get_updated_query(Q, D_POS, D_NEG, 0.6, 0.2, 0.2)\n",
    "    assert q_m == pytest.approx([0.600, 0.587, 1.300, 0.467, -0.267, 0], rel=1e-2)"
   ]
  }
 ],
 "metadata": {
  "kernelspec": {
   "display_name": "Python 3",
   "language": "python",
   "name": "python3"
  },
  "language_info": {
   "codemirror_mode": {
    "name": "ipython",
    "version": 3
   },
   "file_extension": ".py",
   "mimetype": "text/x-python",
   "name": "python",
   "nbconvert_exporter": "python",
   "pygments_lexer": "ipython3",
   "version": "3.7.4"
  }
 },
 "nbformat": 4,
 "nbformat_minor": 2
}
